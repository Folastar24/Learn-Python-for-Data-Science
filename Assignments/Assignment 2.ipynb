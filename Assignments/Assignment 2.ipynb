{
 "cells": [
  {
   "cell_type": "code",
   "execution_count": 22,
   "id": "f857c8c4-fe5f-4a15-bd12-af4cf2b1412b",
   "metadata": {},
   "outputs": [
    {
     "name": "stdout",
     "output_type": "stream",
     "text": [
      "5 x 5 = 25\n",
      "8 x 8 = 64\n",
      "4 x 4 = 16\n",
      "2 x 2 = 4\n",
      "7 x 7 = 49\n",
      "12 x 12 = 144\n",
      "86 x 86 = 7396\n",
      "descending_order_square_rooted_item: [7396, 144, 64, 49, 25, 16, 4]\n"
     ]
    }
   ],
   "source": [
    "#create a new list with each item as a square of the corresponding item in the list above—also, sort the resulting list in descending order.\n",
    "#new_list = [5, 8, 4, 2, 7, 12, 86]\n",
    "#Using either a for or while \n",
    "new_list = [5, 8, 4, 2, 7, 12, 86]\n",
    "for i in new_list:\n",
    "    print(i, \"x\", i, \"=\", i * i)\n",
    "\n",
    "new_list2 = [25, 64, 16, 4, 49, 144, 7396]\n",
    "new_list2.sort(reverse=True)\n",
    "print(\"descending_order_square_rooted_item:\",new_list2)\n"
   ]
  },
  {
   "cell_type": "code",
   "execution_count": null,
   "id": "e991051a-9160-443e-a1f4-f17afb94a246",
   "metadata": {},
   "outputs": [],
   "source": [
    "#correction to second assignment\n"
   ]
  },
  {
   "cell_type": "code",
   "execution_count": null,
   "id": "eee9c762-225d-40cc-9472-70dc737b5a3e",
   "metadata": {},
   "outputs": [],
   "source": []
  }
 ],
 "metadata": {
  "kernelspec": {
   "display_name": "Python 3 (ipykernel)",
   "language": "python",
   "name": "python3"
  },
  "language_info": {
   "codemirror_mode": {
    "name": "ipython",
    "version": 3
   },
   "file_extension": ".py",
   "mimetype": "text/x-python",
   "name": "python",
   "nbconvert_exporter": "python",
   "pygments_lexer": "ipython3",
   "version": "3.12.4"
  }
 },
 "nbformat": 4,
 "nbformat_minor": 5
}
