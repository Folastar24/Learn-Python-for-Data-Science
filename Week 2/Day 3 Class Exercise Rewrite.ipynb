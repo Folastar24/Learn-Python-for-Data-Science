{
 "cells": [
  {
   "cell_type": "code",
   "execution_count": 29,
   "id": "de815f51-f0eb-4c0c-81cf-d4fd29a517b2",
   "metadata": {},
   "outputs": [
    {
     "name": "stdin",
     "output_type": "stream",
     "text": [
      "Enter Patient's temperature: 38\n"
     ]
    },
    {
     "name": "stdout",
     "output_type": "stream",
     "text": [
      "server conditions\n"
     ]
    }
   ],
   "source": [
    "#Working with Multiple conditions/ Combining Logical Operators\n",
    "\n",
    "temperature = float(input(\"Enter Patient's temperature:\"))\n",
    "\n",
    "if  temperature < 0:\n",
    "         print(\"Invalid temperature\")\n",
    "elif temperature > 0 and temperature <= 20:\n",
    "         print(\"normal or mild temperature\")\n",
    "elif temperature > 20 and temperature <= 50:\n",
    "         print(\"server conditions\")\n",
    "\n",
    "else:\n",
    "          print(\"critical Conditions\")\n",
    "\n",
    "if temperature >70:\n",
    "    print(\"Red alert\")\n",
    "                  "
   ]
  },
  {
   "cell_type": "code",
   "execution_count": null,
   "id": "9b4d54fd-1d4a-4e89-9d99-20eed5235498",
   "metadata": {},
   "outputs": [],
   "source": [
    "temperature = input(\"Enter the patient's temperature:  \")\n",
    "if temperature.isdigit():\n",
    "    temperature"
   ]
  }
 ],
 "metadata": {
  "kernelspec": {
   "display_name": "Python 3 (ipykernel)",
   "language": "python",
   "name": "python3"
  },
  "language_info": {
   "codemirror_mode": {
    "name": "ipython",
    "version": 3
   },
   "file_extension": ".py",
   "mimetype": "text/x-python",
   "name": "python",
   "nbconvert_exporter": "python",
   "pygments_lexer": "ipython3",
   "version": "3.12.4"
  }
 },
 "nbformat": 4,
 "nbformat_minor": 5
}
