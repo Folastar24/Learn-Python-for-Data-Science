{
 "cells": [
  {
   "cell_type": "code",
   "execution_count": 13,
   "id": "209f49b5-92d9-4257-a3f0-0faa47ce9332",
   "metadata": {},
   "outputs": [
    {
     "name": "stdin",
     "output_type": "stream",
     "text": [
      "Enter the patient's temperature:  -9\n"
     ]
    },
    {
     "name": "stdout",
     "output_type": "stream",
     "text": [
      "Invalid temperature\n"
     ]
    }
   ],
   "source": [
    "#Working with multiple conditions us if/elif/else\n",
    "\n",
    "temperature = float(input(\"Enter the patient's temperature: \"))\n",
    "\n",
    "#Check to see if temperature is valid or not.  write it as if\n",
    "\n",
    "if temperature < 0:\n",
    "    print(\"Invalid temperature\")\n",
    "elif temperature> 0 and temperature <= 20:\n",
    "    print(\"Normal/mild temperature\")\n",
    "elif temperature > 20 and temperature <= 50:\n",
    "     print(\"Severe condition\")\n",
    "else:\n",
    "     print(\"Critical condition\")\n",
    "\n",
    "if temperature > 70:\n",
    "    print(\"Red alert\")"
   ]
  },
  {
   "cell_type": "code",
   "execution_count": 6,
   "id": "9f41a620-036e-417a-b362-225eb7a706be",
   "metadata": {},
   "outputs": [
    {
     "name": "stdin",
     "output_type": "stream",
     "text": [
      "Enter the patient's temperature:  uete\n"
     ]
    },
    {
     "name": "stdout",
     "output_type": "stream",
     "text": [
      "Invalid input\n",
      "converted;  <class 'str'>\n"
     ]
    }
   ],
   "source": [
    "#If Statement without elif or else statement if you just want to check 1 condition\n",
    "temperature = input(\"Enter the patient's temperature: \")\n",
    "\n",
    "if temperature.isdigit():\n",
    "    print(\"raw data: \", type(temperature))\n",
    "    temperature = float(temperature)\n",
    "#doing an else check\n",
    "else:\n",
    "    print(\"Invalid input\")\n",
    "\n",
    "print(\"converted; \", type(temperature))"
   ]
  },
  {
   "cell_type": "code",
   "execution_count": 12,
   "id": "34378ee5-8ce3-4929-bea7-49deb7671db7",
   "metadata": {},
   "outputs": [
    {
     "name": "stdout",
     "output_type": "stream",
     "text": [
      "n\n",
      "Kola\n",
      "Kola\n"
     ]
    }
   ],
   "source": [
    "#Working with Iterables\n",
    "str_iterable = \"My name is John Dow\"\n",
    "list_iterable = [\"Simi\", \"Kola\", 50, 70, \"Ade\"]\n",
    "#this is using postive indexing\n",
    "print (str_iterable[3])\n",
    "print(list_iterable[1])\n",
    "\n",
    "#Using negative indexing\n",
    "print(list_iterable[-4])"
   ]
  },
  {
   "cell_type": "code",
   "execution_count": 26,
   "id": "c56b5499-00f7-4d3d-a35f-8c69cffdbe8b",
   "metadata": {},
   "outputs": [
    {
     "name": "stdout",
     "output_type": "stream",
     "text": [
      "John\n",
      "John Dow\n",
      "[50, 70, 'Ade']\n"
     ]
    }
   ],
   "source": [
    "# Slicing Iterables\n",
    "str_iterable = \"My name is John Dow\"\n",
    "list_iterable = [\"Simi\", \"Kola\", 50, 70, \"Ade\"]\n",
    "\n",
    "print(str_iterable [11:15])\n",
    "\n",
    "#leaving upperbound empty\n",
    "\n",
    "print(str_iterable [11:])\n",
    "\n",
    "print(list_iterable [2:])\n",
    "\n"
   ]
  },
  {
   "cell_type": "code",
   "execution_count": 28,
   "id": "d2a43466-2e97-44e8-8244-fb9effb643f4",
   "metadata": {},
   "outputs": [
    {
     "name": "stdout",
     "output_type": "stream",
     "text": [
      "John Dow\n",
      "[50, 70, 'Ade']\n"
     ]
    }
   ],
   "source": [
    "#Class exercise. Print from j to end, print from 50 to end using negative indexing\n",
    "\n",
    "str_iterable = \"My name is John Dow\"\n",
    "list_iterable = [\"Simi\", \"Kola\", 50, 70, \"Ade\"]\n",
    "\n",
    "print(str_iterable[-8:])\n",
    "print(list_iterable[-3:])\n",
    "      "
   ]
  },
  {
   "cell_type": "code",
   "execution_count": 42,
   "id": "3f6473c1-ce86-440c-99bc-e5433cb0f297",
   "metadata": {},
   "outputs": [
    {
     "name": "stdout",
     "output_type": "stream",
     "text": [
      "M\n",
      "a\n",
      "r\n",
      "y\n",
      "item at index =  0 - M\n",
      "item at index =  1 - a\n",
      "item at index =  2 - r\n",
      "item at index =  3 - y\n"
     ]
    }
   ],
   "source": [
    "#Working with Loop\n",
    "\n",
    "list_iterable = [\"Simi\", \"Kola\", 50, 70, \"Ade\"]\n",
    "name = \"Mary\"\n",
    "\n",
    "#to achieve the same results use the for loop without typing line by line\n",
    "for character in name:\n",
    "    print(character)\n",
    "\n",
    "#Another way is do this by using the Index. \n",
    "\n",
    "count = len(name)\n",
    "for i in range(count):\n",
    "    print(\"item at index = \", i, \"-\", name[i])\n",
    "    \n",
    "# to do range we need to get len for name. which is 4 here.\n"
   ]
  },
  {
   "cell_type": "code",
   "execution_count": 57,
   "id": "442d0566-5975-4601-9a50-dd2da9dc16ed",
   "metadata": {},
   "outputs": [
    {
     "ename": "SyntaxError",
     "evalue": "expected ':' (4144873462.py, line 3)",
     "output_type": "error",
     "traceback": [
      "\u001b[0;36m  Cell \u001b[0;32mIn[57], line 3\u001b[0;36m\u001b[0m\n\u001b[0;31m    for i in range(1,21)\u001b[0m\n\u001b[0m                        ^\u001b[0m\n\u001b[0;31mSyntaxError\u001b[0m\u001b[0;31m:\u001b[0m expected ':'\n"
     ]
    }
   ],
   "source": [
    "#Get all the numbers from 1 - 20 and find the square root of them\n",
    "\n",
    "for i in range(1,21)\n",
    "    print(i, \"x\", i, \"=\", * i)"
   ]
  },
  {
   "cell_type": "code",
   "execution_count": 81,
   "id": "8b094b50-43a1-4f3a-8f7f-b0d46d90ae21",
   "metadata": {},
   "outputs": [
    {
     "ename": "IndentationError",
     "evalue": "unexpected indent (626058393.py, line 5)",
     "output_type": "error",
     "traceback": [
      "\u001b[0;36m  Cell \u001b[0;32mIn[81], line 5\u001b[0;36m\u001b[0m\n\u001b[0;31m    if i%2 == 0:\u001b[0m\n\u001b[0m    ^\u001b[0m\n\u001b[0;31mIndentationError\u001b[0m\u001b[0;31m:\u001b[0m unexpected indent\n"
     ]
    }
   ],
   "source": [
    "#Puting if conditions in loop\n",
    "#print out even  numbers in this sequence\n",
    "\n",
    "#how to check if a number is even say the following % means modolus\n",
    "    if i%2 == 0:\n",
    "        print(i)\n",
    "# another way\n",
    "    if i%2 == 0:\n",
    "          print(i, \"- even\")\n",
    "    else:\n",
    "        print(i, \"- odd\")"
   ]
  },
  {
   "cell_type": "code",
   "execution_count": 91,
   "id": "81d56f46-8137-49a5-9f23-139ff20ba01b",
   "metadata": {},
   "outputs": [
    {
     "name": "stdout",
     "output_type": "stream",
     "text": [
      "1 x 1 x 1 = 1\n",
      "2 x 2 x 2 = 8\n",
      "3 x 3 x 3 = 27\n",
      "4 x 4 x 4 = 64\n",
      "5 x 5 x 5 = 125\n",
      "6 x 6 x 6 = 216\n",
      "7 x 7 x 7 = 343\n",
      "8 x 8 x 8 = 512\n",
      "9 x 9 x 9 = 729\n",
      "10 x 10 x 10 = 1000\n",
      "11 x 11 x 11 = 1331\n",
      "12 x 12 x 12 = 1728\n",
      "13 x 13 x 13 = 2197\n",
      "14 x 14 x 14 = 2744\n",
      "15 x 15 x 15 = 3375\n",
      "16 x 16 x 16 = 4096\n",
      "17 x 17 x 17 = 4913\n",
      "18 x 18 x 18 = 5832\n",
      "19 x 19 x 19 = 6859\n",
      "20 x 20 x 20 = 8000\n"
     ]
    }
   ],
   "source": [
    "#using range(1,21) write a program that prints out the cube of every item in the sequence\n",
    "for i in range(1,21):\n",
    "    #print(i, \"x\", i, \"=\", i * i)\n",
    "    print(i, \"x\", i, \"x\", i, \"=\", i * i * i)"
   ]
  },
  {
   "cell_type": "code",
   "execution_count": null,
   "id": "7849b1ae-1395-463e-8dbb-a2fc12328788",
   "metadata": {},
   "outputs": [],
   "source": []
  },
  {
   "cell_type": "code",
   "execution_count": null,
   "id": "834b5bf3-adb7-44d5-9416-ffdf7f7e3542",
   "metadata": {},
   "outputs": [],
   "source": []
  }
 ],
 "metadata": {
  "kernelspec": {
   "display_name": "Python 3 (ipykernel)",
   "language": "python",
   "name": "python3"
  },
  "language_info": {
   "codemirror_mode": {
    "name": "ipython",
    "version": 3
   },
   "file_extension": ".py",
   "mimetype": "text/x-python",
   "name": "python",
   "nbconvert_exporter": "python",
   "pygments_lexer": "ipython3",
   "version": "3.12.4"
  }
 },
 "nbformat": 4,
 "nbformat_minor": 5
}
