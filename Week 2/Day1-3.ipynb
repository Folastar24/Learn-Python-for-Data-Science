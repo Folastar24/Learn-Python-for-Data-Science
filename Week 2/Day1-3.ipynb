{
 "cells": [
  {
   "cell_type": "code",
   "execution_count": 1,
   "id": "bb83c501-9970-43ad-92ec-e5264df5b9ee",
   "metadata": {},
   "outputs": [
    {
     "name": "stdout",
     "output_type": "stream",
     "text": [
      "even_number_sum:  10\n"
     ]
    }
   ],
   "source": [
    "#working with loop \n",
    "\n",
    "#sum the even numbers in the list\n",
    "number_list = [4, 6, 5, 15, 17, 3]\n",
    "even_number_sum = 0\n",
    "for number in number_list:\n",
    "    if number%2 == 0:\n",
    "        #even_number_sum = even_number_sum + number\n",
    "        even_number_sum += number\n",
    "print(\"even_number_sum: \", even_number_sum)\n",
    "        \n",
    "        "
   ]
  },
  {
   "cell_type": "code",
   "execution_count": null,
   "id": "d3453892-e290-488d-a341-de79c921a233",
   "metadata": {},
   "outputs": [],
   "source": []
  },
  {
   "cell_type": "code",
   "execution_count": 3,
   "id": "0ba20364-b16b-4c2d-ae5f-00d56077bf2c",
   "metadata": {},
   "outputs": [
    {
     "name": "stdout",
     "output_type": "stream",
     "text": [
      "loop ran 20  times\n",
      "sum = 210\n"
     ]
    }
   ],
   "source": [
    "# suming items in a range and counting the number of times the loop ran\n",
    "sum = 0\n",
    "count = 0\n",
    "for i in range(1, 21):\n",
    "    count += 1\n",
    "    sum += i\n",
    "print(\"loop ran\", count, \" times\")\n",
    "print(\"sum =\", sum)"
   ]
  },
  {
   "cell_type": "code",
   "execution_count": 5,
   "id": "8bfc8a86-25ec-4001-905f-609412c8bf8f",
   "metadata": {},
   "outputs": [
    {
     "name": "stdin",
     "output_type": "stream",
     "text": [
      "Enter a word:  Hello\n"
     ]
    },
    {
     "name": "stdout",
     "output_type": "stream",
     "text": [
      "HH\n",
      "ee\n",
      "ll\n",
      "ll\n",
      "oo\n"
     ]
    }
   ],
   "source": [
    "string = input(\"Enter a word: \")\n",
    "for char in string:\n",
    "    print(char * 2)"
   ]
  },
  {
   "cell_type": "code",
   "execution_count": 6,
   "id": "4c181b97-304d-4f45-b02d-6f2aff980f0a",
   "metadata": {},
   "outputs": [
    {
     "name": "stdin",
     "output_type": "stream",
     "text": [
      "Enter a word or sentence:  Hello john doe\n"
     ]
    },
    {
     "name": "stdout",
     "output_type": "stream",
     "text": [
      "number of non white space character = 12\n"
     ]
    }
   ],
   "source": [
    "string = input(\"Enter a word or sentence: \")\n",
    "count = 0\n",
    "for i in string:\n",
    "    if i != \" \":\n",
    "        count += 1\n",
    "\n",
    "print(\"number of non white space character =\", count)"
   ]
  },
  {
   "cell_type": "code",
   "execution_count": null,
   "id": "936dcb59-be95-4ef9-96f4-c7dd1178f7bc",
   "metadata": {},
   "outputs": [],
   "source": [
    "#write a program to count the number odd numbers in range(1, 21)"
   ]
  },
  {
   "cell_type": "code",
   "execution_count": 12,
   "id": "d65f24af-1074-43b8-9faa-08d302b5f9d6",
   "metadata": {},
   "outputs": [
    {
     "name": "stdout",
     "output_type": "stream",
     "text": [
      "sum of even numbers = 10\n"
     ]
    }
   ],
   "source": [
    "#working with while loop\n",
    "\n",
    "#sum the even numbers in the list using while loop\n",
    "number_list = [4, 6, 5, 15, 17, 3]\n",
    "even_number_sum = 0\n",
    "length = len(number_list)\n",
    "i = 0\n",
    "sum = 0\n",
    "while (i < length):\n",
    "    if number_list[i]%2 == 0:\n",
    "        sum += number_list[i]\n",
    "    i += 1\n",
    "print(\"sum of even numbers =\", sum)"
   ]
  },
  {
   "cell_type": "code",
   "execution_count": 13,
   "id": "d3ac1ebb-115d-4858-8f4d-1bc8bfd07c43",
   "metadata": {},
   "outputs": [
    {
     "name": "stdout",
     "output_type": "stream",
     "text": [
      "sum =  210\n"
     ]
    }
   ],
   "source": [
    "# suming items in a range and counting the number of times the loop ran, using while loop\n",
    "sum = 0\n",
    "count = 1\n",
    "while (count < 21):\n",
    "    sum = sum + count\n",
    "    count = count + 1\n",
    "print(\"sum = \", sum)"
   ]
  },
  {
   "cell_type": "code",
   "execution_count": 14,
   "id": "ab79f23f-4daa-4fc3-bb91-7d3701abc5b1",
   "metadata": {},
   "outputs": [
    {
     "name": "stdin",
     "output_type": "stream",
     "text": [
      "Enter a word or sentence:  Hello John Doe\n"
     ]
    },
    {
     "name": "stdout",
     "output_type": "stream",
     "text": [
      "sum of non white space characters =  12\n"
     ]
    }
   ],
   "source": [
    "#count the number of non white space characters in a string\n",
    "\n",
    "string = input(\"Enter a word or sentence: \")\n",
    "i = 0\n",
    "sum = 0\n",
    "length = len(string)\n",
    "while (i < length):\n",
    "    if string[i] != \" \":\n",
    "        sum += 1\n",
    "    i += 1\n",
    "print(\"sum of non white space characters = \", sum)\n",
    "\n"
   ]
  },
  {
   "cell_type": "code",
   "execution_count": 17,
   "id": "e450621b-d7b1-4be9-9605-a41397011015",
   "metadata": {},
   "outputs": [
    {
     "name": "stdout",
     "output_type": "stream",
     "text": [
      "Cow\n",
      "Chicken\n",
      "Dog\n",
      "Goat\n"
     ]
    }
   ],
   "source": [
    "#working with Breaak statement\n",
    "#check whether goat is an item in the list\n",
    "animals = [\"Cow\", \"Chicken\", \"Dog\", \"Goat\", \"Pig\", \"Kangaro\", \"Cat\"]\n",
    "for i in animals:\n",
    "    print(i)\n",
    "    if i == \"Goat\":\n",
    "        break"
   ]
  },
  {
   "cell_type": "code",
   "execution_count": 19,
   "id": "6253dee3-ecdd-42e8-8361-92f7781b961d",
   "metadata": {},
   "outputs": [
    {
     "name": "stdout",
     "output_type": "stream",
     "text": [
      "Cow\n",
      "Chicken\n",
      "Dog\n",
      "Pig\n",
      "Cat\n"
     ]
    }
   ],
   "source": [
    "#working with continue statement\n",
    "animals = [\"Cow\", \"Chicken\", \"Dog\", \"Goat\", \"Pig\", \"Kangaro\", \"Cat\"]\n",
    "for i in animals:\n",
    "    if i == \"Goat\":\n",
    "        continue\n",
    "    print(i)"
   ]
  },
  {
   "cell_type": "code",
   "execution_count": null,
   "id": "1d7a4e57-883f-401b-ad83-d794dacf9d15",
   "metadata": {},
   "outputs": [],
   "source": [
    "#working with continue statement\n",
    "animals = [\"Cow\", \"Chicken\", \"Dog\", \"Goat\", \"Pig\", \"Kangaro\", \"Cat\"]\n",
    "for i in animals:\n",
    "    if i == \"Goat\" or i == \"Kangaro\":\n",
    "        continue\n",
    "    print(i)"
   ]
  },
  {
   "cell_type": "code",
   "execution_count": 21,
   "id": "e1489efd-d8a5-4f27-a0cf-d113f8b5ba9d",
   "metadata": {},
   "outputs": [
    {
     "name": "stdout",
     "output_type": "stream",
     "text": [
      "Cow\n",
      "Chicken\n",
      "Dog\n",
      "Cat\n"
     ]
    }
   ],
   "source": [
    "#working with continue statement\n",
    "animals = [\"Cow\", \"Chicken\", \"Dog\", \"Goat\", \"Pig\", \"Kangaro\", \"Cat\"]\n",
    "for i in animals:\n",
    "    if i in [\"Goat\", \"Kangaro\", \"Pig\"]:\n",
    "        continue\n",
    "    print(i)"
   ]
  },
  {
   "cell_type": "code",
   "execution_count": null,
   "id": "fcdca999-c849-46ff-859d-ef1c8db00230",
   "metadata": {},
   "outputs": [],
   "source": [
    "my_tuple = (1, 2, 5, 6)\n",
    "my_tuple1 = tuple(1, 2, 5, 6)\n",
    "\n",
    "my_list = [1, 2, 5, 6]\n",
    "my_list1 = list(1, 2, 5, 6)"
   ]
  }
 ],
 "metadata": {
  "kernelspec": {
   "display_name": "Python 3 (ipykernel)",
   "language": "python",
   "name": "python3"
  },
  "language_info": {
   "codemirror_mode": {
    "name": "ipython",
    "version": 3
   },
   "file_extension": ".py",
   "mimetype": "text/x-python",
   "name": "python",
   "nbconvert_exporter": "python",
   "pygments_lexer": "ipython3",
   "version": "3.10.3"
  }
 },
 "nbformat": 4,
 "nbformat_minor": 5
}
