{
 "cells": [
  {
   "cell_type": "code",
   "execution_count": null,
   "id": "df48565b-839e-45ee-9389-fc7e3cd00236",
   "metadata": {},
   "outputs": [],
   "source": [
    "temperature = input(\"Enter patient temperature:\")\n",
    "\n",
    "if temperature.isdigit():\n",
    "    temperature = float(temperature)\n",
    "    print(type(temperature))"
   ]
  },
  {
   "cell_type": "code",
   "execution_count": null,
   "id": "47849ad5-38b1-4523-b9c1-6b46362f72c8",
   "metadata": {},
   "outputs": [],
   "source": [
    "# Working with Iterables\n",
    "\n",
    "str_iterable = \"My name is John Dow\"\n",
    "list_iterable = [\"simi\", \"kola\", 50, 70, \"Ade"
   ]
  }
 ],
 "metadata": {
  "kernelspec": {
   "display_name": "Python 3 (ipykernel)",
   "language": "python",
   "name": "python3"
  },
  "language_info": {
   "codemirror_mode": {
    "name": "ipython",
    "version": 3
   },
   "file_extension": ".py",
   "mimetype": "text/x-python",
   "name": "python",
   "nbconvert_exporter": "python",
   "pygments_lexer": "ipython3",
   "version": "3.12.4"
  }
 },
 "nbformat": 4,
 "nbformat_minor": 5
}
