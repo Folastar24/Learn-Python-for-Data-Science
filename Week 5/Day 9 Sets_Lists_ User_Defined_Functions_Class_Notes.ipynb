{
 "cells": [
  {
   "cell_type": "code",
   "execution_count": 3,
   "id": "08accd34-6523-49cb-bbec-f701324d8182",
   "metadata": {},
   "outputs": [
    {
     "name": "stdout",
     "output_type": "stream",
     "text": [
      "difference:  {'Amina', 'John', 'Karen'}\n",
      "union:  {'Amina', 'Godwin', 'Jane', 'Ben', 'Karen', 'Arthur', 'John', 'Jason'}\n"
     ]
    }
   ],
   "source": [
    "#Example of working with set\n",
    "my_set = {\"John\", \"Ben\", \"Amina\", \"Jane\"}\n",
    "my_set.add(\"Karen\")\n",
    "#print(my_set)\n",
    "my_set2 = {\"Godwin\", \"Jason\", \"Arthur\",\"Ben\", \"Jane\"}\n",
    "difference = my_set.difference(my_set2)\n",
    "union = my_set.union(my_set2)\n",
    "\n",
    "print(\"difference: \", difference)\n",
    "print(\"union: \", union)\n",
    "#union is a combination of set1 and set 2 put together"
   ]
  },
  {
   "cell_type": "code",
   "execution_count": 7,
   "id": "4978cbf0-66e3-4526-9e3e-95ac488c18c3",
   "metadata": {},
   "outputs": [
    {
     "name": "stdout",
     "output_type": "stream",
     "text": [
      "list_unique: {2, 3, 4, 5, 9, 10}\n"
     ]
    }
   ],
   "source": [
    "#How to convert list to a set\n",
    "\n",
    "list_random = [2, 5,4, 9,10, 2, 9, 3]\n",
    "list_unique = set(list_random) #this coverts the list to set and gets rid of duplicates\n",
    "print(\"list_unique:\", list_unique)"
   ]
  },
  {
   "cell_type": "code",
   "execution_count": 13,
   "id": "b7519ee5-81af-4a12-8994-6526d4b4d60d",
   "metadata": {},
   "outputs": [
    {
     "name": "stdout",
     "output_type": "stream",
     "text": [
      "list_unique: [2, 3, 4, 5, 9, 10]\n"
     ]
    }
   ],
   "source": [
    "#How to set back to list\n",
    "\n",
    "list_random = [2, 5,4, 9,10, 2, 9, 3]\n",
    "list_set = set(list_random) # this converts set to list\n",
    "list_unique = list(list_set)\n",
    "print(\"list_unique:\", list_unique)\n",
    "#set will automatically remove the duplicates"
   ]
  },
  {
   "cell_type": "code",
   "execution_count": 5,
   "id": "31e8c76b-f229-4e9a-887b-a3b5b9452a61",
   "metadata": {},
   "outputs": [
    {
     "name": "stdout",
     "output_type": "stream",
     "text": [
      "mango\n",
      "3\n"
     ]
    }
   ],
   "source": [
    "#working with tuple\n",
    "#remember you can add to a tuple once it has been declared\n",
    "tuple1 = (\"mango\", \"Orange\", \"Banana\",\"Pineapple\")\n",
    "print(tuple1[0])\n",
    "#to get pineapple index number\n",
    "print(tuple1.index(\"Pineapple\"))# we use 2 braces at the end to get "
   ]
  },
  {
   "cell_type": "code",
   "execution_count": 7,
   "id": "f2bc2c11-9824-4868-8912-8f9191225e54",
   "metadata": {},
   "outputs": [
    {
     "name": "stdout",
     "output_type": "stream",
     "text": [
      "mango\n",
      "Orange\n",
      "Banana\n",
      "Pineapple\n"
     ]
    }
   ],
   "source": [
    "#looping over items using in operator\n",
    "#how to loop over items in a tuple\n",
    "tuple1 = (\"mango\", \"Orange\", \"Banana\",\"Pineapple\")\n",
    "for item in tuple1: #in helps you go to one member to another\n",
    "    print(item) #this prints all items in the tuple1 list above"
   ]
  },
  {
   "cell_type": "code",
   "execution_count": 11,
   "id": "cb250dd3-9f0b-4203-8b93-e0f48036d180",
   "metadata": {},
   "outputs": [
    {
     "name": "stdout",
     "output_type": "stream",
     "text": [
      "mango\n",
      "Orange\n",
      "Banana\n",
      "Pineapple\n"
     ]
    }
   ],
   "source": [
    "#lopping over items using index\n",
    "tuple1 = (\"mango\", \"Orange\", \"Banana\",\"Pineapple\")\n",
    "count = len(tuple1)# first get len of list\n",
    "for i in range(count):\n",
    "    print(tuple1[i])"
   ]
  },
  {
   "cell_type": "code",
   "execution_count": null,
   "id": "d01484b8-684a-4674-9830-26ae5405b828",
   "metadata": {},
   "outputs": [],
   "source": [
    "#function\n",
    "#we have been using print function\n",
    "#functions that are built into python are called built functions#"
   ]
  },
  {
   "cell_type": "code",
   "execution_count": null,
   "id": "a8a62eba-392f-47e4-8113-6197a3200395",
   "metadata": {},
   "outputs": [],
   "source": [
    "#User definied function\n",
    "#working witg python user-defined functions\n",
    "#return indicated the end of function\n",
    "\n",
    "def sum_numbers(a, b):\n",
    "    \"\"\"\n",
    "    This function returns the product of the squares of the \n",
    "    given numbers; parameter a and b.\n",
    "    \"\"\"\n",
    "    c = (a*a) * (b * b) #this means squared\n",
    "    return c\n",
    "\n",
    "#using the function defined\n",
    "num1 = float(input(\"Enter a number: \"))\n",
    "num2 = float(input(\"Enter another number: \"))\n",
    "product = sum_numbers(num1, num2)\n",
    "print(\"product:\", product)\n"
   ]
  },
  {
   "cell_type": "code",
   "execution_count": 9,
   "id": "2318c5be-60a4-4a81-88d0-f757b56e5348",
   "metadata": {},
   "outputs": [
    {
     "name": "stdout",
     "output_type": "stream",
     "text": [
      "Help on function sum_numbers in module __main__:\n",
      "\n",
      "sum_numbers(a, b)\n",
      "    This function returns the product of the squares of the\n",
      "    given numbers; parameter a and b.\n",
      "\n"
     ]
    }
   ],
   "source": [
    "a = 10\n",
    "b = 15\n",
    "#print(sum_numbers(a, b))\n",
    "#how to print out information about the function\n",
    "# 1) way print(sum_numbers.__doc__)\n",
    "#2nd way to get information\n",
    "\n",
    "help(sum_numbers)\n"
   ]
  },
  {
   "cell_type": "code",
   "execution_count": 5,
   "id": "d18f5b4d-880c-4577-8e89-f742326c0703",
   "metadata": {},
   "outputs": [
    {
     "name": "stdin",
     "output_type": "stream",
     "text": [
      "Enter a number:  6\n",
      "Enter another number:  3\n"
     ]
    },
    {
     "name": "stdout",
     "output_type": "stream",
     "text": [
      "product: 324.0\n"
     ]
    }
   ],
   "source": [
    "def sum_numbers(a, b):\n",
    "    \"\"\"\n",
    "    This function returns the product of the squares of the \n",
    "    given numbers; parameter a and b.\n",
    "    \"\"\"\n",
    "    c = (a*a) * (b * b) #this means squared\n",
    "    return c\n",
    "\n",
    "#using the function defined\n",
    "num1 = float(input(\"Enter a number: \"))\n",
    "num2 = float(input(\"Enter another number: \"))\n",
    "product = sum_numbers(num1, num2)\n",
    "print(\"product:\", product)\n",
    "\n"
   ]
  },
  {
   "cell_type": "code",
   "execution_count": 23,
   "id": "ab35c7e9-03a5-49e8-8a4b-a59e9c50d23b",
   "metadata": {},
   "outputs": [
    {
     "name": "stdout",
     "output_type": "stream",
     "text": [
      "factorial_of_5 =  120\n"
     ]
    }
   ],
   "source": [
    "#a funtion that solves for factorial\n",
    "#this is an integer function\n",
    "\n",
    "def factorial_n(n):\n",
    "    \"\"\"\n",
    "    This is for factorials\n",
    "    \"\"\"\n",
    "    num = 1\n",
    "    while n >= 1:\n",
    "        num =num * n\n",
    "        n = n - 1 #this is the exit condition\n",
    "    return num #here only want the code to return information in the string and NOT the Function name\n",
    "\n",
    "\n",
    "factorial_of_5 = factorial_n(5)\n",
    "print(\"factorial_of_5 = \", factorial_of_5)"
   ]
  },
  {
   "cell_type": "code",
   "execution_count": 25,
   "id": "6dc2023c-4bfb-417f-8c2d-bab3d8d1628d",
   "metadata": {},
   "outputs": [
    {
     "name": "stdout",
     "output_type": "stream",
     "text": [
      "call with 2 parms: My name is Joseph and I am studying computer science\n",
      "call with without  the second param: My name is Sam and I am studying Medicine\n"
     ]
    }
   ],
   "source": [
    "#functions with default parameter value\n",
    "#here default is medicine\n",
    "#this a string function\n",
    "\n",
    "def student_info(name, course = \"Medicine\"):\n",
    "    info = \"My name is \" + name + \" and I am studying \"+ course # this where we define/tell python to do what we want wether is calculate numbers or inpute string values as seen above\n",
    "    return info #here only want the code to return information in the string and NOT the Function name\n",
    "\n",
    "\n",
    "name1 = \"Joseph\"\n",
    "course1 = \"computer science\"\n",
    "print(\"call with 2 parms:\", student_info(name1, course1))# this has 2 arguments and 2 parameters name and course\n",
    "\n",
    "name2 = \"Sam\"\n",
    "print(\"call with without  the second param:\", student_info(name2,))#this has 1 argument and 1 paramter"
   ]
  },
  {
   "cell_type": "code",
   "execution_count": 29,
   "id": "9bc59ed5-d166-43b2-a80c-68f396b93997",
   "metadata": {},
   "outputs": [
    {
     "name": "stdout",
     "output_type": "stream",
     "text": [
      "14\n"
     ]
    }
   ],
   "source": [
    "#write a function that returns the sum of the paramters, say A, B, C\n",
    "#when writing return make as same line as function\n",
    "# 3 reprensts a\n",
    "# 4 reperesents b\n",
    "# 7 represents c\n",
    "# d represents the sum\n",
    "\n",
    "def sum_number(a, b, c):\n",
    "   d = a + b + c # this where we define/tell python to do what we want wether is calculate numbers or inpute string values as seen above\n",
    "    \n",
    "   return d #here only want the code to return information in the string and NOT the Function name\n",
    "\n",
    "\n",
    "print(sum_number(3,4,7))"
   ]
  },
  {
   "cell_type": "code",
   "execution_count": 39,
   "id": "55ab37fd-0133-4f35-b187-ac4b3e587c25",
   "metadata": {},
   "outputs": [
    {
     "name": "stdout",
     "output_type": "stream",
     "text": [
      "scores: (60, 90, 67, 80, 39, 50)\n",
      "The average score for Jamesis = 64.33333333333333\n"
     ]
    }
   ],
   "source": [
    "#function with varable length argument\n",
    "# *variable this means that values can be muliutple values\n",
    "#Values in *scores will be grouped together in a tuple\n",
    "#refer to lecture notes for this part\n",
    "#8 groupes everything togther\n",
    "#this is for when we dont know the number of how many variables we need\n",
    "\n",
    "def calculate_avg_score(name, *scores):\n",
    "    print(\"scores:\", scores)\n",
    "    count = len(scores)\n",
    "    sum = 0\n",
    "    for score in scores:\n",
    "        sum += score\n",
    "    average = sum/count\n",
    "    return \"The average score for \" + name +  \"is = \" + str(average)\n",
    "\n",
    "avg = calculate_avg_score(\"James\", 60, 90, 67, 80, 39, 50)# here we are defining average\n",
    "print(avg)"
   ]
  },
  {
   "cell_type": "code",
   "execution_count": 41,
   "id": "8ffd5b56-6035-44cc-8f80-8181aa307a07",
   "metadata": {},
   "outputs": [
    {
     "name": "stdout",
     "output_type": "stream",
     "text": [
      "scores: (60, 90, 67, 80, 39, 50)\n",
      "The average score for Jamesis = 64.33333333333333\n"
     ]
    }
   ],
   "source": [
    "#Simpler way to do above\n",
    "#This does not use For Loop\n",
    "#this uses the sum function to get the average of the scores\n",
    "#this is example of when we wan user to enter their own data\n",
    "\n",
    "def calculate_avg_score(name, *scores):\n",
    "    print(\"scores:\", scores)\n",
    "    count = len(scores)\n",
    "    total = sum(scores)\n",
    "    average = total/count\n",
    "    return \"The average score for \" + name +  \"is = \" + str(average)# here we are creating the form for the user to input the information as seen below\n",
    "\n",
    "avg = calculate_avg_score(\"James\", 60, 90, 67, 80, 39, 50)\n",
    "print(avg)"
   ]
  },
  {
   "cell_type": "code",
   "execution_count": null,
   "id": "4dee425e-8d12-4c44-a766-0fa83c14b4bc",
   "metadata": {},
   "outputs": [],
   "source": [
    "#Example of Variable length argument\n",
    "#this is same as above\n",
    "#my variable sum\n",
    "#refer to powerpoint slide\n",
    "def my_var(*arg)"
   ]
  },
  {
   "cell_type": "code",
   "execution_count": 43,
   "id": "4404e0cd-cbff-43d9-ad83-a663fc10a8a7",
   "metadata": {},
   "outputs": [
    {
     "name": "stdout",
     "output_type": "stream",
     "text": [
      "biology : 80\n",
      "physics : 65\n",
      "Geography : 70\n",
      "Maths : 75\n"
     ]
    }
   ],
   "source": [
    "# Function with Keyword arguments\n",
    "# this is example of when we wan user to enter their own data\n",
    "def keyword_arg_func(**args): #this line of code accepts keyword arguements and prinbts thme side by side\n",
    "    for key, value in args.items():\n",
    "        print(key, \":\", value)\n",
    "    return\n",
    "\n",
    "keyword_arg_func(biology=80, physics=65, Geography=70, Maths=75)\n"
   ]
  },
  {
   "cell_type": "code",
   "execution_count": 52,
   "id": "fbb34cce-df39-46b2-b7e4-f72451f301e6",
   "metadata": {},
   "outputs": [
    {
     "name": "stdout",
     "output_type": "stream",
     "text": [
      "{'biology': 80, 'physics': 65, 'Geography': 70, 'Maths': 75}\n",
      "biology : 80\n",
      "physics : 65\n",
      "Geography : 70\n",
      "Maths : 75\n"
     ]
    }
   ],
   "source": [
    "# Function with Keyword arguments\n",
    "#this shows the dictionary\n",
    "def keyword_arg_func(**args): #this line of code accepts keyword arguements and prinbts thme side by side\n",
    "    print(args)\n",
    "    for key, value in args.items():\n",
    "        print(key, \":\", value)\n",
    "    return\n",
    "\n",
    "keyword_arg_func(biology=80, physics=65, Geography=70, Maths=75)\n"
   ]
  },
  {
   "cell_type": "code",
   "execution_count": null,
   "id": "a816cfb2-af5a-49ed-badb-21cfb8395f18",
   "metadata": {},
   "outputs": [],
   "source": []
  }
 ],
 "metadata": {
  "kernelspec": {
   "display_name": "Python 3 (ipykernel)",
   "language": "python",
   "name": "python3"
  },
  "language_info": {
   "codemirror_mode": {
    "name": "ipython",
    "version": 3
   },
   "file_extension": ".py",
   "mimetype": "text/x-python",
   "name": "python",
   "nbconvert_exporter": "python",
   "pygments_lexer": "ipython3",
   "version": "3.12.4"
  }
 },
 "nbformat": 4,
 "nbformat_minor": 5
}
