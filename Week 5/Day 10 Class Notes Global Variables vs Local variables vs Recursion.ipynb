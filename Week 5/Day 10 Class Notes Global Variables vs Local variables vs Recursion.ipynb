{
 "cells": [
  {
   "cell_type": "code",
   "execution_count": null,
   "id": "d4d19ffb-3972-44d5-9f59-dab632976e37",
   "metadata": {},
   "outputs": [],
   "source": [
    "# Recap of yesterday class\n",
    "#u cant put multiple arguments and multiple variiable arguments in the same function name\n",
    "#this is why variable length argument is always last. I.e on the right side of function name\n",
    "#In use defined functions within the function name you cant have more than 2 arguements/parameters\n",
    "#"
   ]
  },
  {
   "cell_type": "code",
   "execution_count": null,
   "id": "f97b44c3-7b45-4030-916f-0ac3e45cb57d",
   "metadata": {},
   "outputs": [],
   "source": [
    "#local varaibles cant be used outside of function where u defined it"
   ]
  },
  {
   "cell_type": "code",
   "execution_count": 16,
   "id": "3324d575-91f9-4fb1-b7ca-8c73944c0b8f",
   "metadata": {},
   "outputs": [
    {
     "name": "stdout",
     "output_type": "stream",
     "text": [
      "Jane\n",
      "30\n",
      "outside: Samuel\n"
     ]
    }
   ],
   "source": [
    "#Global vs Local variables\n",
    "#even though we didnt define name within the function we still able to print it out.\n",
    "#age is defined inside the function\n",
    "#name has a global scope\n",
    "\n",
    "#when we print(age) we cant bc age is defined outside the function. but we if print name its globally becuse its outside the function\n",
    "#if we tried to use a variable outside the function thats inside of the function it wont work. This is local variable\n",
    "\n",
    "name = \"Samuel\"  #global variable\n",
    "\n",
    "def print_name():\n",
    "    age = 30\n",
    "    print(name)\n",
    "    print(age)\n",
    "\n",
    "#print_name()\n",
    "\n",
    "\n",
    "\n",
    "name = \"Samuel\"\n",
    "def print_name():\n",
    "    age = 30\n",
    "    name = \"Jane\"\n",
    "    print(name)\n",
    "    print(age)\n",
    "    \n",
    "print_name()\n",
    "\n",
    "print(\"outside:\", name)"
   ]
  },
  {
   "cell_type": "code",
   "execution_count": 14,
   "id": "fabfd1eb-85ce-4e93-aac0-3514ec7545a7",
   "metadata": {},
   "outputs": [
    {
     "name": "stdout",
     "output_type": "stream",
     "text": [
      "Jane\n",
      "30\n",
      "outside: Samuel\n"
     ]
    }
   ],
   "source": [
    "#here since name is defined outside the function and we have a name inside the function. When we print the \n",
    "#code will return the Global name\n",
    "\n",
    "name = \"Samuel\"\n",
    "\n",
    "def print_name():\n",
    "    age = 30\n",
    "    name = \"Jane\"\n",
    "    print(name)\n",
    "    print(age)\n",
    "    \n",
    "print_name()\n",
    "\n",
    "print(\"outside:\", name)"
   ]
  },
  {
   "cell_type": "code",
   "execution_count": null,
   "id": "2803f5b1-0007-4273-8713-5e070a264b89",
   "metadata": {},
   "outputs": [],
   "source": [
    "#Refer to powerpoit Global vs local variables with Total#"
   ]
  },
  {
   "cell_type": "code",
   "execution_count": null,
   "id": "ebdd79f7-95bf-4216-be1c-a5c9950ffa03",
   "metadata": {},
   "outputs": [],
   "source": [
    "# Recursion\n",
    "#Recursion a method of solving problems that involves breakdown problems to smaller problems in order to break it down\n",
    "# 2important things about recuriions\n",
    "#1 function that calls itself\n",
    "#2  breaks down into smaller units and solutions for different units are put together to solve the large units\n",
    "#Recurison is reverse engerineering\n",
    "#recursions can only apply to when problems can be broken down into smaller units\n",
    "#factorial symbol n!\n",
    "#Trigger for Recursion. if u analyze a probelem fits for recursion. then use recurison. if u have a problem and u have to use mulitple if problems\n",
    "#that doesnt work and loop does not work. then use Recurison"
   ]
  },
  {
   "cell_type": "code",
   "execution_count": 36,
   "id": "701eeda0-5e59-47f3-b30b-0789103aef1c",
   "metadata": {},
   "outputs": [
    {
     "name": "stdout",
     "output_type": "stream",
     "text": [
      "factorial_of_10: 3628800\n"
     ]
    }
   ],
   "source": [
    "#Recursion\n",
    "#factorial symbol n!\n",
    "\"\"\"\n",
    "n!\n",
    "5! = 5 * 4! = 5 * 24 = 120\n",
    "4! = 4 * 3! = 4 * 6 = 24\n",
    "3! = 3 * 2! = 3 * 2 = 6\n",
    "2! = 2 * 1! 2 * 1 = 2\n",
    "1! = 1\n",
    "\"\"\"\n",
    "\n",
    "def factorial_recursion(n):\n",
    "    if n <= 1:\n",
    "        return 1\n",
    "    else:\n",
    "        return n * factorial_recursion(n-1)\n",
    "        \n",
    "#Calling the function\n",
    "n = 10\n",
    "factorial_of_10 = factorial_recursion(n)\n",
    "print(\"factorial_of_10:\", factorial_of_10)"
   ]
  },
  {
   "cell_type": "code",
   "execution_count": 48,
   "id": "6eb54135-cfa6-446d-a26d-e0d475721a7b",
   "metadata": {},
   "outputs": [
    {
     "name": "stdout",
     "output_type": "stream",
     "text": [
      "Jane\n",
      "John\n",
      "90\n",
      "60\n",
      "90\n",
      "Hello\n",
      "[90, 100, 300]\n"
     ]
    }
   ],
   "source": [
    "#when to be thinking about using Recurison\n",
    "#u are asked out every item \n",
    "#re-watch notes\n",
    "\n",
    "nested_list = [\"Jane\", \"John\", 90, [60, 90, \"Hello\", [90, 100, 300]]]\n",
    "#for item in nested_list:\n",
    "    #print(item)\n",
    "\n",
    "for item in nested_list:\n",
    "    if type(item)== list:\n",
    "        for i in item:\n",
    "            print(i)\n",
    "    else:\n",
    "        print(item)\n",
    "#this does not solve the problem\n"
   ]
  },
  {
   "cell_type": "code",
   "execution_count": null,
   "id": "4fb78f04-03fb-49f0-a57d-81e41d2a2e7b",
   "metadata": {},
   "outputs": [],
   "source": [
    "#applying recursion to a nested listed\n",
    "#use recursion to solved\n",
    "#here print out every item in the list and every item in the sublist\n",
    "\n",
    "nested_list = [\"Jane\", \"John\", 90, [60, 90, \"Hello\", [90, 100, 300][5,6,8]]\n",
    "#for item in nested_list:\n",
    "    #print(item)\n",
    "\n",
    "for item in nested_list:\n",
    "    if type(item)== list:\n",
    "        for i in item:\n",
    "            print(i)\n",
    "            \n",
    "    else:\n",
    "        print(item)"
   ]
  },
  {
   "cell_type": "code",
   "execution_count": 1,
   "id": "4bea5d8b-1949-4cb4-abc6-aaaa091bb8e7",
   "metadata": {},
   "outputs": [
    {
     "name": "stdout",
     "output_type": "stream",
     "text": [
      "Jane\n",
      "John\n",
      "90\n",
      "60\n",
      "90\n",
      "Hello\n",
      "90\n",
      "100\n",
      "300\n",
      "5\n",
      "6\n",
      "8\n"
     ]
    }
   ],
   "source": [
    "#this solves the probelm\n",
    "def print_items_recusive(items_list):\n",
    "    for item in items_list:\n",
    "        if type(item) == list:\n",
    "            print_items_recusive(item)\n",
    "        else:\n",
    "            print(item)\n",
    "            \n",
    "nested_list = [\"Jane\", \"John\", 90, [60, 90, \"Hello\", [90, 100, 300],[5,6,8]]]\n",
    "print_items_recusive(nested_list)"
   ]
  },
  {
   "cell_type": "code",
   "execution_count": 15,
   "id": "f0d0d068-9aae-4e31-8594-7a42a423cdc5",
   "metadata": {},
   "outputs": [
    {
     "name": "stdout",
     "output_type": "stream",
     "text": [
      "Jane\n",
      "John\n",
      "90\n",
      "60\n",
      "90\n",
      "Hello\n",
      "90\n",
      "100\n",
      "300\n",
      "5\n",
      "6\n",
      "8\n",
      "8\n",
      "4\n",
      "7\n",
      "8\n",
      "4\n",
      "5\n"
     ]
    }
   ],
   "source": [
    "#this solves the probelm\n",
    "#another way to solve this problem\n",
    "# using is instance\n",
    "#refer to video\n",
    "# tip alway check to make sure that every bracket has a corresponding bracket\n",
    "def print_items_recusive(items_list):\n",
    "    for item in items_list:\n",
    "        if isinstance(item, (list, set, tuple, dict)): \n",
    "            print_items_recusive(item)\n",
    "        else:\n",
    "            print(item)\n",
    "            \n",
    "nested_list = [\"Jane\", \"John\", 90, [60, 90, \"Hello\",[90, 100, 300],[5,6,8, (8,4,7,), {4,5,8}]]]\n",
    "print_items_recusive(nested_list)"
   ]
  },
  {
   "cell_type": "code",
   "execution_count": null,
   "id": "2c1cfead-15bf-4afc-8c6a-352ab387b82e",
   "metadata": {},
   "outputs": [],
   "source": []
  }
 ],
 "metadata": {
  "kernelspec": {
   "display_name": "Python 3 (ipykernel)",
   "language": "python",
   "name": "python3"
  },
  "language_info": {
   "codemirror_mode": {
    "name": "ipython",
    "version": 3
   },
   "file_extension": ".py",
   "mimetype": "text/x-python",
   "name": "python",
   "nbconvert_exporter": "python",
   "pygments_lexer": "ipython3",
   "version": "3.12.4"
  }
 },
 "nbformat": 4,
 "nbformat_minor": 5
}
