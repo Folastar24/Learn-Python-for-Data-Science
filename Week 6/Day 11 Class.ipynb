{
 "cells": [
  {
   "cell_type": "code",
   "execution_count": 14,
   "id": "a27a7083-059c-4172-a2e5-389861fd5faf",
   "metadata": {},
   "outputs": [
    {
     "ename": "SyntaxError",
     "evalue": "'[' was never closed (1399862699.py, line 4)",
     "output_type": "error",
     "traceback": [
      "\u001b[0;36m  Cell \u001b[0;32mIn[14], line 4\u001b[0;36m\u001b[0m\n\u001b[0;31m    nested_list = [\"Jane\", \"John\", 90, [60, 90, \"Hello\", [90, 100, 300,[5,6,8 (8,4,7, {4,5,8})]]]\u001b[0m\n\u001b[0m                  ^\u001b[0m\n\u001b[0;31mSyntaxError\u001b[0m\u001b[0;31m:\u001b[0m '[' was never closed\n"
     ]
    }
   ],
   "source": [
    "#Nested List\n",
    "#if iststnace is function we can use to check if item is of any data type\n",
    "#rewatch lecture on this part\n",
    "nested_list = [\"Jane\", \"John\", 90, [60, 90, \"Hello\", [90, 100, 300,[5,6,8 (8,4,7, {4,5,8})]]]\n",
    "def unwrap_nested_list(n_list):\n",
    "    for item in n_list:\n",
    "        if isintanstance(item, (list,set,tuple,dict)):\n",
    "            unwraps_nested_list(item)\n",
    "        else:\n",
    "            print(item)\n",
    "unwraps_nested_list(nested_list)\n",
    "\n",
    "#how to call the function\n",
    "\n",
    "unwraps_nested_list(nested_list)\n",
    "        "
   ]
  },
  {
   "cell_type": "code",
   "execution_count": null,
   "id": "c806fcf2-eaba-473d-b215-f2f2f1019360",
   "metadata": {},
   "outputs": [],
   "source": [
    "#Object oriented programining OOP. If u want to write a program that does different functions for an object\n",
    "# Function allows u to write logic so that solution to a problem is solved using a function\n",
    "#OOP is known as procedural programming\n",
    "#oop vocab\n",
    "#class- how objects are arranged/ model. \n",
    "#for function u use def\n",
    "#for oop to start the coding u use class\n",
    "#Class varaibale- its shared amonng all within the class\n",
    "#instance variable-\n",
    "#When need to initialize class\n",
    "#When you call the method u dont need the parameter\n",
    "#intlation helps u get an instance of the class#\n",
    "#rewatch video on this\n"
   ]
  },
  {
   "cell_type": "code",
   "execution_count": 30,
   "id": "258fec0e-de11-46b6-b321-00e9c8e2ca95",
   "metadata": {},
   "outputs": [
    {
     "name": "stdout",
     "output_type": "stream",
     "text": [
      "I talk by barking\n",
      "-------\n",
      "number of legs: 4\n",
      "color: Brown\n",
      "has tail: True\n"
     ]
    }
   ],
   "source": [
    "#OOP example\n",
    "#always put self inside the parameters\n",
    "#for every method in the class you have to pass the first parameter\n",
    "#self binds the method to the class and helps the method to reference anything outside the scope\n",
    "#we use go back to def because we need to create a method. Def = Methods in OOP Methods are beha\n",
    "#re watch video for explanation of methods\n",
    "#use self to access the values of the properties u want to access\n",
    "\n",
    "class Dog:\n",
    "     legs = 4\n",
    "     color = \"Brown\"\n",
    "     tail = True\n",
    "     def talk(self):\n",
    "        print(\"I talk by barking\")\n",
    "     def walk(self#this is parameter):\n",
    "        print(\"I can run, I can walk\")\n",
    "     def my_attributes(self):\n",
    "        print(\"number of legs:\", self.legs)\n",
    "        print(\"color:\", self.color)\n",
    "        print(\"has tail:\", self.tail)\n",
    "\n",
    "#to use any method in the class. Heres how to Create an instance of the class\n",
    "\n",
    "bingo = Dog()\n",
    "bingo.talk()\n",
    "print(\"-------\")\n",
    "bingo.my_attributes()\n",
    "\n",
    "\n",
    "        "
   ]
  },
  {
   "cell_type": "code",
   "execution_count": null,
   "id": "4b448ab9-9d00-46d7-b323-56a569308772",
   "metadata": {},
   "outputs": [],
   "source": [
    "#constructor- is called automatically when a member of a class in intiuatied\n",
    "#constructor is always there even if u dont define it \n",
    "#constructor is a method a of a class that is automaticalluu executed when u create a meber of class or class is intiated#int"
   ]
  },
  {
   "cell_type": "code",
   "execution_count": 34,
   "id": "1c321643-2aff-45f3-b9c5-a1fdb9c84bfb",
   "metadata": {},
   "outputs": [
    {
     "name": "stdout",
     "output_type": "stream",
     "text": [
      "I talk by barking\n",
      "-------\n",
      "number of legs: 4\n",
      "color: Black\n",
      "has tail: True\n"
     ]
    }
   ],
   "source": [
    "#Intriducting a Constructor\n",
    "#constructor trigger __init__\n",
    "class Dog:\n",
    "     legs = 4\n",
    "     color = \"Brown\"\n",
    "     tail = True\n",
    "     name = \"Bingo\"\n",
    "     def __init__(self, name, color):\n",
    "        self.name = name\n",
    "        self.color = color\n",
    "     def talk(self):\n",
    "        print(\"I talk by barking\")\n",
    "     def walk(self):\n",
    "        print(\"I can run, I can walk\")\n",
    "     def my_attributes(self):\n",
    "        print(\"name:\", self.name)\n",
    "        print(\"number of legs:\", self.legs)\n",
    "        print(\"color:\", self.color)\n",
    "        print(\"has tail:\", self.tail)\n",
    "\n",
    "\n",
    "dog = Dog(\"Roger\", \"Black\")\n",
    "bingo.talk()\n",
    "print(\"-------\")\n",
    "dog.my_attributes()"
   ]
  },
  {
   "cell_type": "code",
   "execution_count": 36,
   "id": "9b06d27c-fbb0-4244-b492-e50e3704397e",
   "metadata": {},
   "outputs": [
    {
     "name": "stdout",
     "output_type": "stream",
     "text": [
      "I talk by barking\n",
      "-------\n",
      "name: Bingo\n",
      "number of legs: 4\n",
      "color: Brown\n",
      "has tail: True\n"
     ]
    }
   ],
   "source": [
    "#here its using the default values because we pass and didnt set the values\n",
    "class Dog:\n",
    "     legs = 4\n",
    "     color = \"Brown\"\n",
    "     tail = True\n",
    "     name = \"Bingo\"\n",
    "     def __init__(self, name, color):\n",
    "         pass \n",
    "        #self.name = name\n",
    "        #self.color = color\n",
    "     def talk(self):\n",
    "        print(\"I talk by barking\")\n",
    "     def walk(self):\n",
    "        print(\"I can run, I can walk\")\n",
    "     def my_attributes(self):\n",
    "        print(\"name:\", self.name)\n",
    "        print(\"number of legs:\", self.legs)\n",
    "        print(\"color:\", self.color)\n",
    "        print(\"has tail:\", self.tail)\n",
    "\n",
    "\n",
    "dog = Dog(\"Roger\", \"Black\")\n",
    "bingo.talk()\n",
    "print(\"-------\")\n",
    "dog.my_attributes()"
   ]
  },
  {
   "cell_type": "code",
   "execution_count": 38,
   "id": "810fe61f-9ef3-475e-ba46-e6846d8745d0",
   "metadata": {},
   "outputs": [
    {
     "name": "stdout",
     "output_type": "stream",
     "text": [
      "I talk by barking\n",
      "-------\n",
      "name: Roger\n",
      "number of legs: 4\n",
      "color: Black\n",
      "has tail: True\n"
     ]
    }
   ],
   "source": [
    "#here we replaced the excisting values and not it uses the values that are passed\n",
    "class Dog:\n",
    "     legs = 4\n",
    "     color = \"Brown\"\n",
    "     tail = True\n",
    "     name = \"Bingo\"\n",
    "     def __init__(self, name, color):\n",
    "         #pass \n",
    "        self.name = name\n",
    "        self.color = color\n",
    "     def talk(self):\n",
    "        print(\"I talk by barking\")\n",
    "     def walk(self):\n",
    "        print(\"I can run, I can walk\")\n",
    "     def my_attributes(self):\n",
    "        print(\"name:\", self.name)\n",
    "        print(\"number of legs:\", self.legs)\n",
    "        print(\"color:\", self.color)\n",
    "        print(\"has tail:\", self.tail)\n",
    "\n",
    "\n",
    "dog = Dog(\"Roger\", \"Black\")\n",
    "bingo.talk()\n",
    "print(\"-------\")\n",
    "dog.my_attributes()"
   ]
  },
  {
   "cell_type": "code",
   "execution_count": 40,
   "id": "3cc1379d-3108-4892-a857-548bcf15869f",
   "metadata": {},
   "outputs": [
    {
     "name": "stdout",
     "output_type": "stream",
     "text": [
      "name: Peter\n",
      "age: 30\n",
      "gender: Male\n",
      "--------\n",
      "name: Peter Parker\n",
      "age: 31\n",
      "gender: Male\n"
     ]
    }
   ],
   "source": [
    "#name of the class always starts with a capital letter\n",
    "#this is example when someone gives u data thats not accurate\n",
    "#re-watch lecture on this part\n",
    "#set attributes lets u correct the incorrect data\n",
    "#get attributes lets us get the current Data after we have corrected the Data\n",
    "\n",
    "class Person:\n",
    "    def __init__(self, name, age, gender):\n",
    "        self.name = name\n",
    "        self. age = age\n",
    "        self.gender = gender\n",
    "    def set_attributes(self, name, age, gender):\n",
    "        self.name = name\n",
    "        self. age = age\n",
    "        self.gender = gender\n",
    "        \n",
    "    def get_attributes(self):\n",
    "        print(\"name:\", self.name)\n",
    "        print(\"age:\", self.age)\n",
    "        print(\"gender:\", self.gender)\n",
    "\n",
    "p_A = Person(\"Peter\", \"30\", \"Male\")\n",
    "p_A.get_attributes()\n",
    "print(\"--------\")\n",
    "p_A.set_attributes(\"Peter Parker\", 31, \"Male\")\n",
    "p_A.get_attributes()\n",
    "\n",
    "\n",
    "        "
   ]
  },
  {
   "cell_type": "code",
   "execution_count": 58,
   "id": "c04d0be5-2acd-4972-9bec-052811a736fd",
   "metadata": {},
   "outputs": [
    {
     "name": "stdout",
     "output_type": "stream",
     "text": [
      "I talk by chirpping\n",
      "I move by flying\n",
      "name: Kenny\n",
      "color: White\n"
     ]
    }
   ],
   "source": [
    "#create a bird class that has the following behaviors, talk, move, get_attributes\n",
    "#Always put the () after the attributes\n",
    "#use the __init__ method\n",
    "\n",
    "class Bird:\n",
    "    def __init__(self, name, color):\n",
    "        self.name = name\n",
    "        self.color = color\n",
    "    def talk(self):\n",
    "        print(\"I talk by chirpping\")\n",
    "    def move(self):\n",
    "        print(\"I move by flying\")\n",
    "    def get_attributes(self):\n",
    "        print(\"name:\", self.name)\n",
    "        print(\"color:\", self.color)\n",
    "            \n",
    "\n",
    "eagle = Bird(\"Kenny\", \"White\") \n",
    "eagle.talk()\n",
    "eagle.move()\n",
    "eagle.get_attributes()"
   ]
  },
  {
   "cell_type": "code",
   "execution_count": null,
   "id": "3c82db9c-add1-488f-a034-b294da403bb8",
   "metadata": {},
   "outputs": [],
   "source": [
    "#Class Inheritance and function overriding\n",
    "#Parent Class\n",
    "#every class inherits from the object class. When its not specified its implied\n",
    "#rewatch video on parents and child interitance class\n",
    "#many children can have the same parent. The same inheirtance u get from parent ur sibilings inheirt from the parent\n",
    "#child can inheirt from other child. \n",
    "#Child can inheirt from parent and child. this is mulitiple class inheritance\n",
    "#remeber Inheritance has to be logical"
   ]
  },
  {
   "cell_type": "code",
   "execution_count": null,
   "id": "27371fd3-a0db-446e-b0e7-f95c7d10ba5f",
   "metadata": {},
   "outputs": [],
   "source": [
    "#different types of inheritance\n",
    "#mulitlevel inheritance- i.e anythng u parents inheritnace fromt ehir parents . the child inherits fromt he parents and grandparents\n",
    "#heircahel inhertiance ex duck inheirts from animal, dog inherirts from animal\n",
    "#mulitplie inheritance ex Dog inheirts from animal, living things examples"
   ]
  },
  {
   "cell_type": "code",
   "execution_count": null,
   "id": "aa9d9cb4-7bb3-45b8-b5a5-d492cd6e1514",
   "metadata": {},
   "outputs": [],
   "source": [
    "#polymorphism- having different forms of one class. u can do inheritance and logically override methods"
   ]
  }
 ],
 "metadata": {
  "kernelspec": {
   "display_name": "Python 3 (ipykernel)",
   "language": "python",
   "name": "python3"
  },
  "language_info": {
   "codemirror_mode": {
    "name": "ipython",
    "version": 3
   },
   "file_extension": ".py",
   "mimetype": "text/x-python",
   "name": "python",
   "nbconvert_exporter": "python",
   "pygments_lexer": "ipython3",
   "version": "3.12.4"
  }
 },
 "nbformat": 4,
 "nbformat_minor": 5
}
