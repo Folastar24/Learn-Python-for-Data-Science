{
 "cells": [
  {
   "cell_type": "code",
   "execution_count": null,
   "id": "dda5fe0c-203d-41f4-8a89-6eae9533edfc",
   "metadata": {},
   "outputs": [],
   "source": [
    "#Write this as dictionary\n",
    "#{\"France\": \"Paris\", \"Japan\": \"Tokyo\", \"USA\": \"Washington DC\"}"
   ]
  },
  {
   "cell_type": "code",
   "execution_count": null,
   "id": "c376aee7-22ea-46b5-8a4d-82057b2568d0",
   "metadata": {},
   "outputs": [],
   "source": [
    "# Nested loop exercises\n",
    "\n",
    "Create code with a nested loop based on the list of lists [[\"apple\", \"orange\"], [\"carrot\", \"cabbage\"], [\"chicken\", \"beef\"]] and produces the following output:"
   ]
  },
  {
   "cell_type": "code",
   "execution_count": null,
   "id": "cde25445-d0ee-494e-913c-968689a522f3",
   "metadata": {},
   "outputs": [],
   "source": [
    "#Break and continue exercises\n",
    "# Create a loop to check whether the list [3, 5, 11, 12, 1] contains at least one number higher than 10, \n",
    "#and print “This list contains a number higher than 10” if it does. Include a break statement. The output should be as follows:\n",
    "#This list contains a number higher than 10"
   ]
  },
  {
   "cell_type": "code",
   "execution_count": null,
   "id": "207f8f1d-741b-456b-b892-078f5b495007",
   "metadata": {},
   "outputs": [],
   "source": [
    "# Create a loop to check whether the list of lists [[1, 3, 9], [3, 2], [4, 2] contains any lists that \n",
    "#a) contain exactly two items, and b) the sum of the items is not greater than 5. Include a continue statement. The output should be as follows:\n",
    "#[3, 2] contains two items which have a sum no greater than 5"
   ]
  },
  {
   "cell_type": "code",
   "execution_count": null,
   "id": "fb5e683e-e275-431a-bdbe-4b4a5014745e",
   "metadata": {},
   "outputs": [],
   "source": [
    "We can improve this by using a variable that we create outside the loop and conditionally modify inside the loop. It then has a useful, meaningful value once the loop has finished:\n",
    "words = [\"tennis\", \"poker\", \"bingo\", \"chess\"]\n",
    "bingo_in_list = False\n",
    "  \n",
    "for word in words:\n",
    "  if word == \"bingo\":\n",
    "    bingo_in_list = True\n",
    "  \n",
    "if bingo_in_list == True:\n",
    "    print(\"The list contains the word bingo\")\n",
    "else:\n",
    "    print(\"The list does not contain the word bingo\")\n",
    "  \n",
    "## Output:\n",
    "The list contains the word bingo"
   ]
  },
  {
   "cell_type": "code",
   "execution_count": null,
   "id": "5d0e8b84-eee8-4721-9678-cd87c71e975d",
   "metadata": {},
   "outputs": [],
   "source": [
    "Another common practice is to instantiate a variable outside a list, and use it to “collect” certain information from inside the loop. The following example shows how we can create a list containing all the words beginning with C from another list:\n",
    "words = [\"deranged\", \"anger\", \"cowardly\", \"things\", \"abject\", \"cuddly\", \"rhyme\", \"bed\", \"harm\"]\n",
    "c_words = []\n",
    "  \n",
    "for word in words:\n",
    "    if word[0] == \"c\":\n",
    "        c_words.append(word)\n",
    "  \n",
    "print(c_words)\n",
    "  \n",
    "## Output:\n",
    "['cowardly', 'cuddly']"
   ]
  }
 ],
 "metadata": {
  "kernelspec": {
   "display_name": "Python 3 (ipykernel)",
   "language": "python",
   "name": "python3"
  },
  "language_info": {
   "codemirror_mode": {
    "name": "ipython",
    "version": 3
   },
   "file_extension": ".py",
   "mimetype": "text/x-python",
   "name": "python",
   "nbconvert_exporter": "python",
   "pygments_lexer": "ipython3",
   "version": "3.12.4"
  }
 },
 "nbformat": 4,
 "nbformat_minor": 5
}
