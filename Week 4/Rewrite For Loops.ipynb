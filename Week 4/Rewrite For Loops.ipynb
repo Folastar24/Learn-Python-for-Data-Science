{
 "cells": [
  {
   "cell_type": "code",
   "execution_count": 8,
   "id": "95e2971f-9ac4-445a-b2d4-d48c3115b26f",
   "metadata": {},
   "outputs": [
    {
     "name": "stdout",
     "output_type": "stream",
     "text": [
      "1 x 1 = 1\n",
      "2 x 2 = 4\n",
      "3 x 3 = 9\n",
      "4 x 4 = 16\n",
      "5 x 5 = 25\n",
      "6 x 6 = 36\n",
      "7 x 7 = 49\n",
      "8 x 8 = 64\n",
      "9 x 9 = 81\n",
      "10 x 10 = 100\n",
      "11 x 11 = 121\n",
      "12 x 12 = 144\n",
      "13 x 13 = 169\n",
      "14 x 14 = 196\n",
      "15 x 15 = 225\n",
      "16 x 16 = 256\n",
      "17 x 17 = 289\n",
      "18 x 18 = 324\n",
      "19 x 19 = 361\n",
      "20 x 20 = 400\n"
     ]
    }
   ],
   "source": [
    "#Get all the numbers from range 1 - 20 and find the square root of them using the for loop\n",
    "\n",
    "for i in range(1,21):\n",
    "    print  (i, \"x\", i, \"=\", i * i)\n",
    "    \n"
   ]
  },
  {
   "cell_type": "code",
   "execution_count": 14,
   "id": "c7f5b19b-09ad-4ae8-9fe4-069001783fae",
   "metadata": {},
   "outputs": [
    {
     "name": "stdout",
     "output_type": "stream",
     "text": [
      "1 x 1 x 1 = 1\n",
      "2 x 2 x 2 = 8\n",
      "3 x 3 x 3 = 27\n",
      "4 x 4 x 4 = 64\n",
      "5 x 5 x 5 = 125\n",
      "6 x 6 x 6 = 216\n",
      "7 x 7 x 7 = 343\n",
      "8 x 8 x 8 = 512\n",
      "9 x 9 x 9 = 729\n",
      "10 x 10 x 10 = 1000\n",
      "11 x 11 x 11 = 1331\n",
      "12 x 12 x 12 = 1728\n",
      "13 x 13 x 13 = 2197\n",
      "14 x 14 x 14 = 2744\n",
      "15 x 15 x 15 = 3375\n",
      "16 x 16 x 16 = 4096\n",
      "17 x 17 x 17 = 4913\n",
      "18 x 18 x 18 = 5832\n",
      "19 x 19 x 19 = 6859\n",
      "20 x 20 x 20 = 8000\n",
      "21 x 21 x 21 = 9261\n"
     ]
    }
   ],
   "source": [
    "#using range(1,21) write a program that prints out the cube of every item in the sequence\n",
    "\n",
    "for i in range(1,22):\n",
    "     print  (i, \"x\", i, \"x\", i, \"=\", i * i * i)"
   ]
  },
  {
   "cell_type": "code",
   "execution_count": 4,
   "id": "6a221628-619f-4101-ab23-a74aea149469",
   "metadata": {},
   "outputs": [
    {
     "ename": "SyntaxError",
     "evalue": "invalid syntax (3641987077.py, line 7)",
     "output_type": "error",
     "traceback": [
      "\u001b[0;36m  Cell \u001b[0;32mIn[4], line 7\u001b[0;36m\u001b[0m\n\u001b[0;31m    new_list=[2] \"Replaced\"\u001b[0m\n\u001b[0m                 ^\u001b[0m\n\u001b[0;31mSyntaxError\u001b[0m\u001b[0;31m:\u001b[0m invalid syntax\n"
     ]
    }
   ],
   "source": [
    "# Locate the items at the following index 2, 4, 5 in the list below and replace those items with the string \"Replaced\"#create a new list with each item as a square of the corresponding item in the list above—also, sort the resulting list in descending order.\n",
    "\n",
    "#Using either a for loop\n",
    "new_list =[\"John\", \"Caleb\", \"Joshua\", 89, 20, \"Biology\", \"Physics\", \"Geography\"]\n",
    "\n",
    "\n",
    "new_list=[2] \"Replaced\"\n",
    "new_list=[4] \"Replaced\"\n",
    "new_list=[5] \"Replaced\"\n",
    "\n",
    "print(new_list)\n"
   ]
  },
  {
   "cell_type": "code",
   "execution_count": 4,
   "id": "16c7b816-50e6-47cf-b174-45b520ffe8a0",
   "metadata": {},
   "outputs": [
    {
     "name": "stdout",
     "output_type": "stream",
     "text": [
      "red\n",
      "blue\n",
      "yellow\n"
     ]
    }
   ],
   "source": [
    "#use a For loop to pring out all the colors in the list below\n",
    "my_list = [\"red\", \"blue\", \"yellow\"]\n",
    "\n",
    "for i in (my_list):\n",
    "    print(i)\n"
   ]
  },
  {
   "cell_type": "code",
   "execution_count": 12,
   "id": "c18693df-6d2b-44d6-b267-420968a2a782",
   "metadata": {},
   "outputs": [
    {
     "name": "stdout",
     "output_type": "stream",
     "text": [
      "5\n",
      "6\n",
      "7\n",
      "8\n",
      "9\n"
     ]
    }
   ],
   "source": [
    "#Create a loop that iterates over a range and produces the following output: 5, 6, 7, 8, 9\n",
    "\n",
    "for i in range(5,10):\n",
    "    print(i)\n",
    "\n",
    "\n"
   ]
  },
  {
   "cell_type": "code",
   "execution_count": 26,
   "id": "3eea0bc1-5f75-488a-88c2-c0720d826325",
   "metadata": {},
   "outputs": [
    {
     "name": "stdout",
     "output_type": "stream",
     "text": [
      "5\n",
      "4\n",
      "3\n",
      "2\n",
      "1\n"
     ]
    }
   ],
   "source": [
    "#Create code that includes a loop that iterates over a range, and produces the following output: 5, 4, 3, 2, 1\n",
    "\n",
    "#for i in range(1,6):\n",
    "   # print(i)\n",
    "\n",
    "for i in range(5,0, -1):\n",
    "    print(i)\n"
   ]
  },
  {
   "cell_type": "code",
   "execution_count": 10,
   "id": "c34fd4df-2fd4-40c2-9bf0-33444fca8d79",
   "metadata": {},
   "outputs": [
    {
     "name": "stdout",
     "output_type": "stream",
     "text": [
      "write less than 3: 1\n",
      "write greater than 3: 10\n",
      "write greater than 3: 9\n",
      "write greater than 3: 4\n"
     ]
    }
   ],
   "source": [
    "#Create a loop that iterates over the list [1, 10, 9, 4] and checks whether each number is greater than 3:\n",
    "#this question is asking you to write an if/else condition\n",
    "#Only use Elif when u have multple if conditions\n",
    "numbers = [1, 10, 9, 4] \n",
    "\n",
    "for number in numbers:\n",
    "    if number > 3:\n",
    "        print(\"write greater than 3:\", number)\n",
    "    else:\n",
    "        if number < 3:\n",
    "            print(\"write less than 3:\", number)\n"
   ]
  },
  {
   "cell_type": "code",
   "execution_count": 7,
   "id": "e0a827e5-7a60-40dc-a4a8-cc3a5df5d547",
   "metadata": {},
   "outputs": [
    {
     "name": "stdout",
     "output_type": "stream",
     "text": [
      "the country is not the USA: France\n",
      "the country is not the USA: Japan\n",
      "the country is the USA\n"
     ]
    }
   ],
   "source": [
    "#Create a loop that iterates over the list [\"France\", \"Japan\", \"the USA\"] and searches for “the USA” in the list:\n",
    "#Write this as IF/ELif/Else statement\n",
    "\n",
    "countries = [\"France\", \"Japan\", \"the USA\"]\n",
    "for country in countries:\n",
    "    if country == \"the USA\":\n",
    "        print(\"the country is the USA\")\n",
    "    elif country == (\"France\"):\n",
    "            print(\"the country is not the USA:\", country)\n",
    "    elif country == (\"Japan\"):\n",
    "            print(\"the country is not the USA:\", country)\n",
    "  \n"
   ]
  },
  {
   "cell_type": "code",
   "execution_count": 8,
   "id": "6da05a90-12b1-454b-9555-5aeea62f41be",
   "metadata": {},
   "outputs": [
    {
     "name": "stdout",
     "output_type": "stream",
     "text": [
      "the number is negative: -1\n",
      "the number is positive: 2\n",
      "the number is positive: 3\n",
      "the number is neither negative or positive: 0\n",
      "the number is negative: -4\n"
     ]
    }
   ],
   "source": [
    "#Create a loop that iterates over the list [-1, 2, 3, 0, -4] and checks whether each number is positive or negative:\n",
    "#this is asking me to write conditions IF/ELIF/Else\n",
    "#the reason why i use number on the RT side is beceuase I want to get the exact numbers that satisfy that condition\n",
    "#if I put numbers on the RT side it will just print out the entire numbers list\n",
    "\n",
    "numbers = [-1, 2, 3, 0, -4] # after variable number always write = then the list\n",
    "\n",
    "for number in numbers:\n",
    "    if number > 0:\n",
    "        print(\"the number is positive:\", number)\n",
    "    elif number < 0:\n",
    "        print(\"the number is negative:\", number)\n",
    "    else:\n",
    "        print(\"the number is neither negative or positive:\", number)\n",
    "        \n",
    "        \n",
    "    \n"
   ]
  },
  {
   "cell_type": "code",
   "execution_count": 13,
   "id": "1d986d3b-496e-4d5b-bd64-ad5997a4a509",
   "metadata": {},
   "outputs": [
    {
     "name": "stdout",
     "output_type": "stream",
     "text": [
      "This country is not the USA\n",
      "This country is not the USA\n",
      "This country is the USA\n"
     ]
    }
   ],
   "source": [
    "#Create a loop that iterates over the list [\"France\", \"Japan\", \"the USA\"] and searches for “the USA” in the list:\n",
    "# this is asking you to create an If/else statement\n",
    "\n",
    "countries = [\"France\", \"Japan\", \"the USA\"]\n",
    "for country in countries:\n",
    "    if country == \"the USA\":\n",
    "        print(\"This country is the USA\")\n",
    "    else:\n",
    "        print (\"This country is not the USA\")\n",
    "    \n"
   ]
  },
  {
   "cell_type": "code",
   "execution_count": 12,
   "id": "a531ad2f-331c-4dae-b592-be2c56a6036a",
   "metadata": {},
   "outputs": [
    {
     "name": "stdout",
     "output_type": "stream",
     "text": [
      "the number is negative or positive: -1\n",
      "the number is positive: 2\n",
      "the number is positive: 3\n",
      "the number is negative or positive: 0\n",
      "the number is negative or positive: -4\n"
     ]
    }
   ],
   "source": [
    "numbers = [-1, 2, 3, 0, -4]\n",
    "\n",
    "for number in numbers:\n",
    "    if number > 0:\n",
    "        print(\"the number is positive:\", number)\n",
    "    else:\n",
    "        print(\"the number is negative or positive:\", number)"
   ]
  },
  {
   "cell_type": "code",
   "execution_count": 10,
   "id": "688d6a17-1470-4a8f-b07a-517f085089f5",
   "metadata": {},
   "outputs": [
    {
     "name": "stdout",
     "output_type": "stream",
     "text": [
      "['John', 'Caleb', 'Replaced', 89, 'Replaced', 'Replaced', 'Physics', 'Geography']\n"
     ]
    }
   ],
   "source": [
    "# Locate the items at the following index 2, 4, 5 in the list below and replace those items with the string \"Replaced\"#create a new list with each item as a square of the corresponding item in the list above—also, sort the resulting list in descending order.\n",
    "\n",
    "#Using either a for loop\n",
    "new_list =[\"John\", \"Caleb\", \"Joshua\", 89, 20, \"Biology\", \"Physics\", \"Geography\"]\n",
    "\n",
    "\n",
    "new_list[2] = \"Replaced\"\n",
    "new_list[4] = \"Replaced\"\n",
    "new_list[5] = \"Replaced\"\n",
    "\n",
    "print(new_list)\n"
   ]
  },
  {
   "cell_type": "code",
   "execution_count": 8,
   "id": "9587d398-a7f9-4f20-9d6e-2e19d6765110",
   "metadata": {},
   "outputs": [
    {
     "name": "stdout",
     "output_type": "stream",
     "text": [
      "['John', 'Caleb', 'Replaced', 89, 'Replaced', 'Replaced', 'Physics', 'Geography']\n"
     ]
    }
   ],
   "source": [
    "new_list =[\"John\", \"Caleb\", \"Joshua\", 89, 20, \"Biology\", \"Physics\", \"Geography\"]\n",
    " \n",
    "\n",
    "new_list[2] = \"Replaced\"\n",
    "new_list[4] = \"Replaced\"\n",
    "new_list[5] = \"Replaced\"\n",
    "\n",
    "print(new_list)"
   ]
  },
  {
   "cell_type": "code",
   "execution_count": null,
   "id": "9a377de2-f2f2-40e7-ac99-97cfc27cd4f2",
   "metadata": {},
   "outputs": [],
   "source": []
  }
 ],
 "metadata": {
  "kernelspec": {
   "display_name": "Python 3 (ipykernel)",
   "language": "python",
   "name": "python3"
  },
  "language_info": {
   "codemirror_mode": {
    "name": "ipython",
    "version": 3
   },
   "file_extension": ".py",
   "mimetype": "text/x-python",
   "name": "python",
   "nbconvert_exporter": "python",
   "pygments_lexer": "ipython3",
   "version": "3.12.4"
  }
 },
 "nbformat": 4,
 "nbformat_minor": 5
}
