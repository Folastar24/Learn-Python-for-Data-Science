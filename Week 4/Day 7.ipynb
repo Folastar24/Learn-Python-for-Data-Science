{
 "cells": [
  {
   "cell_type": "code",
   "execution_count": 1,
   "id": "74dc15e3-f175-4f24-b284-8441b07cf41a",
   "metadata": {},
   "outputs": [
    {
     "name": "stdout",
     "output_type": "stream",
     "text": [
      "5 x 5 = 25\n",
      "8 x 8 = 64\n",
      "4 x 4 = 16\n",
      "2 x 2 = 4\n",
      "7 x 7 = 49\n",
      "12 x 12 = 144\n",
      "86 x 86 = 7396\n",
      "descending_order_square_rooted_item: [7396, 144, 64, 49, 25, 16, 4]\n"
     ]
    }
   ],
   "source": [
    "# Locate the items at the following index 2, 4, 5 in the list below and replace those items with the string \"Replaced\"#create a new list with each item as a square of the corresponding item in the list above—also, sort the resulting list in descending order.\n",
    "#new_list = [5, 8, 4, 2, 7, 12, 86]\n",
    "#Using either a for or while \n",
    "new_list = [5, 8, 4, 2, 7, 12, 86]\n",
    "for i in new_list:\n",
    "    print(i, \"x\", i, \"=\", i * i)\n",
    "\n",
    "new_list2 = [25, 64, 16, 4, 49, 144, 7396]\n",
    "new_list2.sort(reverse=True)\n",
    "print(\"descending_order_square_rooted_item:\",new_list2)\n"
   ]
  },
  {
   "cell_type": "code",
   "execution_count": null,
   "id": "766af924-b3ba-4400-bc3d-a9ff8cef2405",
   "metadata": {},
   "outputs": [],
   "source": [
    "#Correction to the assignment 2\n"
   ]
  },
  {
   "cell_type": "code",
   "execution_count": null,
   "id": "fc059c0c-a561-4d18-9769-a16fef3828a5",
   "metadata": {},
   "outputs": [],
   "source": [
    "# Correction to Assignment 1\n",
    "#Locate the items at the following index 2, 4, 5 in the list below and replace those items with the string \"Replaced\"\n",
    "#here target the index mention as follows\n",
    "new_list = [\"John\", \"Caleb\", \"Joshua\", 89, 20, \"Biology\", \"Physics\", \"Geography\"]\n",
    "\n",
    "new_list[2] = \"Replaced\"\n",
    "new_list[4] = \"Replaced\"\n",
    "new_list[5] = \"Replaced\"\n",
    "\n",
    "print(new_list)\n",
    "\n",
    "#another way\n",
    "\n",
    "index_list =[2,4, 5]\n",
    "#for i in index_list:\n",
    " #   new_list[i]=\"Replaced\"\n",
    "\n",
    "#print(new_list)\n",
    "\n",
    "#Using the While Loop to get the solution\n",
    "#first need to get lenght of new list\n",
    "#We are using the index list here\n",
    "count = len(index_list)\n",
    "i = 0\n",
    "while (i < count):\n",
    "    j = index_list[i]\n",
    "    new_list[j] = \"Replaced\"\n",
    "    i +=1\n",
    "\n",
    "print(\"while loop soulution:\", new_list)"
   ]
  },
  {
   "cell_type": "code",
   "execution_count": 29,
   "id": "6c0dd345-a332-4568-a8f1-45436c97fce6",
   "metadata": {},
   "outputs": [
    {
     "name": "stdout",
     "output_type": "stream",
     "text": [
      "while loop soulution: ['John', 'Caleb', 'Replaced', 89, 'Replaced', 'Replaced', 'Physics', 'Geography']\n"
     ]
    }
   ],
   "source": [
    "#While Loop to locate index at 2,4,5 and replace those items with the word \"Replaced\"\n",
    "new_list = [\"John\", \"Caleb\", \"Joshua\", 89, 20, \"Biology\", \"Physics\", \"Geography\"]\n",
    "index_list =[2,4, 5]\n",
    "\n",
    "count = len(index_list)\n",
    "i = 0\n",
    "while (i < count):\n",
    "    j = index_list[i]\n",
    "    new_list[j]= \"Replaced\"\n",
    "    i +=1\n",
    "\n",
    "print(\"while loop soulution:\", new_list)"
   ]
  },
  {
   "cell_type": "code",
   "execution_count": null,
   "id": "17616e22-b77d-4093-893a-c84bc429080c",
   "metadata": {},
   "outputs": [],
   "source": [
    "# While  Loop\n",
    "#create a new list with each item as a square of the corresponding item in the list above—also, sort the resulting list in descending order.\n",
    "new_list = [5, 8, 4, 2, 7, 12, 86]\n",
    "count = len(new_list)\n",
    "i = 0\n",
    "Squared_list = []\n",
    "while (i < count):\n",
    "    Square = new_list[i] * new_list[i]\n",
    "    Squared_list.append(Square)\n",
    "    i+=1\n",
    "\n",
    "print(Squared_list)\n",
    "\n",
    "  "
   ]
  },
  {
   "cell_type": "code",
   "execution_count": 1,
   "id": "352058ad-bb7a-45a1-bbb2-02bb3107b9cc",
   "metadata": {},
   "outputs": [
    {
     "name": "stdout",
     "output_type": "stream",
     "text": [
      "[25, 64, 16, 4, 49, 144, 7396]\n"
     ]
    }
   ],
   "source": [
    "# While  Loop\n",
    "#create a new list with each item as a square of the corresponding item in the list above—also, sort the resulting list in descending order.\n",
    "new_list = [5, 8, 4, 2, 7, 12, 86]\n",
    "count = len(new_list)\n",
    "i = 0\n",
    "Squared_list = []\n",
    "while (i < count):\n",
    "    Square = new_list[i] * new_list[i]\n",
    "    Squared_list.append(Square)\n",
    "    i+=1\n",
    "\n",
    "print(Squared_list)\n"
   ]
  },
  {
   "cell_type": "code",
   "execution_count": 7,
   "id": "9dbbeb5d-b0e8-4b63-8685-11edf6048659",
   "metadata": {},
   "outputs": [
    {
     "name": "stdout",
     "output_type": "stream",
     "text": [
      "original_list [86, 12, 8, 7, 5, 4, 2]\n",
      "squared_list [7396, 144, 64, 49, 25, 16, 4]\n"
     ]
    }
   ],
   "source": [
    "# While  Loop\n",
    "#create a new list with each item as a square of the corresponding item in the list above—also, sort the resulting list in descending order.\n",
    "new_list = [5, 8, 4, 2, 7, 12, 86]\n",
    "count = len(new_list)\n",
    "i = 0\n",
    "squared_list = list() #you can also say squared_list = []\n",
    "while(i <count):\n",
    "    square = new_list[i] * new_list[i]\n",
    "    squared_list.append(square)\n",
    "    i += 1\n",
    "    \n",
    "squared_list.sort(reverse=True)\n",
    "new_list.sort(reverse=True)\n",
    "print(\"original_list\",new_list)\n",
    "print(\"squared_list\", squared_list)"
   ]
  },
  {
   "cell_type": "code",
   "execution_count": null,
   "id": "3012154a-b4e4-4a5a-b6e2-88de77e415b3",
   "metadata": {},
   "outputs": [],
   "source": [
    "# While  Loop\n",
    "#create a new list with each item as a square of the corresponding item in the list above—also, sort the resulting list in descending order.\n",
    "new_list = [5, 8, 4, 2, 7, 12, 86]\n"
   ]
  },
  {
   "cell_type": "code",
   "execution_count": 25,
   "id": "1d034006-97b3-4753-8533-380a0f60b581",
   "metadata": {},
   "outputs": [
    {
     "ename": "NameError",
     "evalue": "name 'sqaure' is not defined",
     "output_type": "error",
     "traceback": [
      "\u001b[0;31m---------------------------------------------------------------------------\u001b[0m",
      "\u001b[0;31mNameError\u001b[0m                                 Traceback (most recent call last)",
      "Cell \u001b[0;32mIn[25], line 7\u001b[0m\n\u001b[1;32m      5\u001b[0m \u001b[38;5;28;01mfor\u001b[39;00m number \u001b[38;5;129;01min\u001b[39;00m \u001b[38;5;28mrange\u001b[39m(\u001b[38;5;241m1\u001b[39m,\u001b[38;5;241m21\u001b[39m):\n\u001b[1;32m      6\u001b[0m     square \u001b[38;5;241m=\u001b[39m number \u001b[38;5;241m*\u001b[39m number\n\u001b[0;32m----> 7\u001b[0m     squared_list\u001b[38;5;241m.\u001b[39mappend(sqaure)\n\u001b[1;32m      9\u001b[0m \u001b[38;5;28mprint\u001b[39m(\u001b[38;5;124m\"\u001b[39m\u001b[38;5;124msquare_list) using for loop: \u001b[39m\u001b[38;5;124m\"\u001b[39m, square_list)\n",
      "\u001b[0;31mNameError\u001b[0m: name 'sqaure' is not defined"
     ]
    }
   ],
   "source": [
    "#using list comprehension\n",
    "# create a list such that each item in the list a square of numbers in the range(1,21)\n",
    "#using for loop\n",
    "squared_list = []\n",
    "for number in range(1,21):\n",
    "    square = number * number\n",
    "    squared_list.append(sqaure)\n",
    "\n",
    "print(\"square_list) using for loop: \", square_list)\n",
    "\n",
    "\n",
    "    "
   ]
  },
  {
   "cell_type": "code",
   "execution_count": 5,
   "id": "2c5b70e9-0a83-4191-bec9-f539db133bf2",
   "metadata": {},
   "outputs": [
    {
     "name": "stdout",
     "output_type": "stream",
     "text": [
      "square_lista using list comprehension:  [1, 4, 9, 16, 25, 36, 49, 64, 81, 100, 121, 144, 169, 196, 225, 256, 289, 324, 361, 400]\n"
     ]
    }
   ],
   "source": [
    "#using list comprehension\n",
    "square_list_a = [number * number for number in range(1,21)]\n",
    "print(\"square_lista using list comprehension: \", square_list_a)"
   ]
  },
  {
   "cell_type": "code",
   "execution_count": 7,
   "id": "46ec46fd-f0fe-4390-9694-e962bfaa71cc",
   "metadata": {},
   "outputs": [
    {
     "name": "stdout",
     "output_type": "stream",
     "text": [
      "[7396, 144, 64, 49, 25, 16, 4]\n"
     ]
    }
   ],
   "source": [
    "#using list comprehension\n",
    "# as a square of the corresponding item in the list above—also, sort the resulting list in descending order.\n",
    "new_list = [5, 8, 4, 2, 7, 12, 86]\n",
    "result = [i *i for i in new_list]\n",
    "result.sort(reverse=True)\n",
    "print(result)"
   ]
  },
  {
   "cell_type": "code",
   "execution_count": 15,
   "id": "f50f5ef9-e581-414e-a0ba-dd71d8b6dfc6",
   "metadata": {},
   "outputs": [
    {
     "name": "stdout",
     "output_type": "stream",
     "text": [
      "[7396, 144, 64, 16, 4]\n"
     ]
    }
   ],
   "source": [
    "new_list = [5, 8, 4, 2, 7, 12, 86]\n",
    "result = [i *i for i in new_list if i %2 ==0]\n",
    "result.sort(reverse=True) \n",
    "print(result)"
   ]
  },
  {
   "cell_type": "code",
   "execution_count": 21,
   "id": "269b0e9b-3b56-4ca7-b9e2-8811fbd745a8",
   "metadata": {},
   "outputs": [
    {
     "name": "stdout",
     "output_type": "stream",
     "text": [
      "[(4, 7), (4, 8), (4, 9), (5, 7), (5, 8), (5, 9), (3, 7), (3, 8), (3, 9)]\n"
     ]
    }
   ],
   "source": [
    "#Using list comprehension when giving 2 lists. \n",
    "#Get the combination of all the items in list 1 and list 2. Example\n",
    "list1 = [4, 5, 3,]\n",
    "list2 = [7, 8, 9]\n",
    "\n",
    "#[(4, 7) (4, 8), (4, 9)(5, 7) (5, 8) (5, 9) (3, 7,) (3, 8,) (3, 9)] These are tuples\n",
    "\n",
    "#Using a nested loop code\n",
    "result = []\n",
    "for i in list1:\n",
    "    for j in list2:\n",
    "        result.append((i,j))\n",
    "print(result)\n",
    "\n",
    "\n",
    "        "
   ]
  },
  {
   "cell_type": "code",
   "execution_count": 23,
   "id": "3af6d6a8-babd-4a60-8eff-38436f45eb78",
   "metadata": {},
   "outputs": [
    {
     "name": "stdout",
     "output_type": "stream",
     "text": [
      "[(4, 7), (4, 8), (4, 9), (5, 7), (5, 8), (5, 9), (3, 7), (3, 8), (3, 9)]\n"
     ]
    }
   ],
   "source": [
    "#using list comprehension anotherway\n",
    "list1 = [4, 5, 3,]\n",
    "list2 = [7, 8, 9]\n",
    "result =[(x, y) for x in list1 for y in list2]\n",
    "print(result)"
   ]
  },
  {
   "cell_type": "code",
   "execution_count": null,
   "id": "9005e7db-eb20-4baf-9fc7-cd2aa07c3755",
   "metadata": {},
   "outputs": [],
   "source": []
  }
 ],
 "metadata": {
  "kernelspec": {
   "display_name": "Python 3 (ipykernel)",
   "language": "python",
   "name": "python3"
  },
  "language_info": {
   "codemirror_mode": {
    "name": "ipython",
    "version": 3
   },
   "file_extension": ".py",
   "mimetype": "text/x-python",
   "name": "python",
   "nbconvert_exporter": "python",
   "pygments_lexer": "ipython3",
   "version": "3.12.4"
  }
 },
 "nbformat": 4,
 "nbformat_minor": 5
}
