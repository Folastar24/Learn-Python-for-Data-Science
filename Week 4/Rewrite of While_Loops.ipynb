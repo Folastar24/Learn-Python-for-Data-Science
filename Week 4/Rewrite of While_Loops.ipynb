{
 "cells": [
  {
   "cell_type": "code",
   "execution_count": null,
   "id": "105b0f22-5839-4a4f-8cc5-a64ee35ea90f",
   "metadata": {},
   "outputs": [],
   "source": [
    "#Learning how to use While Loops"
   ]
  },
  {
   "cell_type": "code",
   "execution_count": 13,
   "id": "b9dafc0a-bbbd-41ea-8c0f-a690a87b2a0e",
   "metadata": {},
   "outputs": [
    {
     "name": "stdout",
     "output_type": "stream",
     "text": [
      "Loop_list: ['John', 'Caleb', 'Replaced', 89, 'Replaced', 'Replaced', 'Physics', 'Geography']\n"
     ]
    }
   ],
   "source": [
    "#Locate the items at the following index 2, 4, 5 in the list below and replace those items with the string \"Replaced\"\n",
    "#Using While Loop\n",
    "new_list = [\"John\", \"Caleb\", \"Joshua\", 89, 20, \"Biology\", \"Physics\", \"Geography\"]\n",
    "index_list =[2,4,5]\n",
    "\n",
    "count = len(index_list)\n",
    "i=0\n",
    "while(i < count):\n",
    "    j=index_list[i]\n",
    "    new_list[j] = \"Replaced\"\n",
    "    i += 1\n",
    "print(\"Loop_list:\", new_list)\n"
   ]
  },
  {
   "cell_type": "code",
   "execution_count": 5,
   "id": "8e2c0fbb-d7bd-4fd1-af8a-35060d5d3f98",
   "metadata": {},
   "outputs": [
    {
     "name": "stdout",
     "output_type": "stream",
     "text": [
      "[]\n"
     ]
    }
   ],
   "source": [
    "#Using either a while create a new list with each item as a square of the corresponding item in the list above—also, sort the resulting list in descending order.\n",
    "new_list = [5, 8, 4, 2, 7, 12, 86]\n",
    "\n",
    "count = len(new_list)\n",
    "i=0\n",
    "squared_list = []\n",
    "while(i < count):\n",
    "    square = new_list[i] * new_list[i]\n",
    "    squared = new_list.append(square)\n",
    "    i += 1\n",
    "    \n",
    "print(squared_list)\n",
    "\n"
   ]
  },
  {
   "cell_type": "code",
   "execution_count": null,
   "id": "b6c2f33b-ec4a-45ff-9e66-ad35c83586e5",
   "metadata": {},
   "outputs": [],
   "source": [
    "#sum the even numbers in the list using while loop\n",
    "number_list = [4, 6, 5, 15, 17, 3]"
   ]
  },
  {
   "cell_type": "code",
   "execution_count": 21,
   "id": "361a82cb-d5f3-4881-acb0-b9e70466e998",
   "metadata": {},
   "outputs": [
    {
     "name": "stdout",
     "output_type": "stream",
     "text": [
      "20\n"
     ]
    }
   ],
   "source": [
    "# suming items in a range (1,21) and counting the number of times the loop ran, using while loop\n",
    "\n",
    "sum = 0\n",
    "count = 1\n",
    "range = []\n",
    "while(count < 21):\n",
    "   sum = sum = count\n",
    "   count = count +1\n",
    "\n",
    "print(sum)\n",
    "\n"
   ]
  },
  {
   "cell_type": "code",
   "execution_count": null,
   "id": "ae5ed9e2-f404-4c92-acbc-ba4b2b6a86db",
   "metadata": {},
   "outputs": [],
   "source": [
    "#count the number of non white space characters in a string"
   ]
  },
  {
   "cell_type": "code",
   "execution_count": 7,
   "id": "482f851d-3a2d-4c37-b160-c003682b8dc6",
   "metadata": {},
   "outputs": [
    {
     "name": "stdout",
     "output_type": "stream",
     "text": [
      "Loop_list: ['John', 'Caleb', 'Replaced', 89, 'Replaced', 'Replaced', 'Physics', 'Geography']\n"
     ]
    }
   ],
   "source": [
    "#Locate the items at the following index 2, 4, 5 in the list below and replace those items with the string \"Replaced\"\n",
    "#Using While Loop\n",
    "# always make sure Include the index list\n",
    "#Always make sure that count is in the while condition i.e  while(i < count)\n",
    "new_list = [\"John\", \"Caleb\", \"Joshua\", 89, 20, \"Biology\", \"Physics\", \"Geography\"]\n",
    "index_list =[2,4,5]\n",
    "\n",
    "count = len(index_list)\n",
    "i=0\n",
    "while(i < count):\n",
    "    j= index_list[i]\n",
    "    new_list[j]= \"Replaced\"\n",
    "    i += 1\n",
    "print(\"Loop_list:\", new_list)\n"
   ]
  },
  {
   "cell_type": "code",
   "execution_count": 1,
   "id": "f9728939-8215-4e29-8d6a-f84db72010fd",
   "metadata": {},
   "outputs": [
    {
     "name": "stdout",
     "output_type": "stream",
     "text": [
      "[25, 64, 16, 4, 49, 144, 7396]\n"
     ]
    }
   ],
   "source": [
    "# While  Loop\n",
    "#create a new list with each item as a square of the corresponding item in the list above—also, sort the resulting list in descending order.\n",
    "new_list = [5, 8, 4, 2, 7, 12, 86]\n",
    "count = len(new_list)\n",
    "i = 0\n",
    "Squared_list = []\n",
    "while (i < count):\n",
    "    Square = new_list[i] * new_list[i]\n",
    "    Squared_list.append(Square)\n",
    "    i+=1\n",
    "\n",
    "print(Squared_list)"
   ]
  },
  {
   "cell_type": "code",
   "execution_count": 13,
   "id": "37083284-b673-4008-88bb-3e1e70a5f2be",
   "metadata": {},
   "outputs": [
    {
     "name": "stdout",
     "output_type": "stream",
     "text": [
      "[7396, 144, 64, 49, 25, 16, 4]\n"
     ]
    }
   ],
   "source": [
    "#Using either a while create a new list with each item as a square of the corresponding item in the list above—also, sort the resulting list in descending order.\n",
    "new_list = [5, 8, 4, 2, 7, 12, 86]\n",
    "\n",
    "count = len(new_list)\n",
    "i = 0\n",
    "squared_list = []\n",
    "while(i < count):\n",
    "    square = new_list[i] * new_list[i]\n",
    "    squared_list.append(square)\n",
    "    i += 1\n",
    "    \n",
    "squared_list.sort(reverse=True) #this is the code for arranging code from last to first (descending order)\n",
    "print(squared_list)\n",
    "\n",
    "\n"
   ]
  },
  {
   "cell_type": "code",
   "execution_count": 17,
   "id": "d50c02db-948d-4fc4-b085-73b39fdcbcfb",
   "metadata": {},
   "outputs": [
    {
     "name": "stdout",
     "output_type": "stream",
     "text": [
      "[25, 64, 16, 4, 49, 144, 7396]\n"
     ]
    }
   ],
   "source": [
    "#Using either a while create a new list with each item as a square of the corresponding item in the list above—also, sort the resulting list in descending order.\n",
    "new_list = [5, 8, 4, 2, 7, 12, 86]\n",
    "\n",
    "count = len(new_list)\n",
    "i = 0\n",
    "squared_list = []#this  is the code for putting items in bracket\n",
    "while(i < count):\n",
    "    square = new_list[i] * new_list[i]\n",
    "    squared_list.append(square) #This is the code fore arranging the square root list from smallest to biggest\n",
    "    i += 1\n",
    "\n",
    "print(squared_list)"
   ]
  },
  {
   "cell_type": "code",
   "execution_count": null,
   "id": "a763b0a3-bb8f-43c1-8362-21500a18a9f2",
   "metadata": {},
   "outputs": [],
   "source": [
    "#the difference between using while loop for the first and second example is that the first example is a string\n",
    "#in the first example since its a string we only define the variable after the while condition statement\n",
    "#the second example are intergers which is why in the second example we have to name/define the list before we start the \n",
    "#while code"
   ]
  }
 ],
 "metadata": {
  "kernelspec": {
   "display_name": "Python 3 (ipykernel)",
   "language": "python",
   "name": "python3"
  },
  "language_info": {
   "codemirror_mode": {
    "name": "ipython",
    "version": 3
   },
   "file_extension": ".py",
   "mimetype": "text/x-python",
   "name": "python",
   "nbconvert_exporter": "python",
   "pygments_lexer": "ipython3",
   "version": "3.12.4"
  }
 },
 "nbformat": 4,
 "nbformat_minor": 5
}
