{
 "cells": [
  {
   "cell_type": "code",
   "execution_count": null,
   "id": "9e7fd7b8-ce2f-4992-8b98-c5f940001b6e",
   "metadata": {},
   "outputs": [],
   "source": [
    "# mixed list = [3,6, \"John\",(3,5,8)-this is atuple \"Gabreil\"]\n",
    "#if u have to order list u cant use sort method\n",
    "#when doing sort it saying that take all items in list and take one higher value and put it after lower value\n",
    "#but when doing string and interger it cant do it because its not of the same data type\n",
    "#U can only Sort a list when they are of the same data type I.E String and String, Interger and Interger"
   ]
  },
  {
   "cell_type": "code",
   "execution_count": 3,
   "id": "81fd359f-5d9d-4b62-b81d-d0e5a390db0b",
   "metadata": {},
   "outputs": [
    {
     "name": "stdout",
     "output_type": "stream",
     "text": [
      "greater True\n",
      "greater1:  False\n"
     ]
    }
   ],
   "source": [
    "greater = \"John\" > \"Gabriel\"\n",
    "greater1 = 9 < 6\n",
    "\n",
    "print(\"greater\", greater)\n",
    "print(\"greater1: \", greater1)\n",
    "\n",
    "#When sorting string it sorts the string in alphabetical orde"
   ]
  },
  {
   "cell_type": "code",
   "execution_count": 9,
   "id": "cb3bff11-155c-4390-a8aa-8506af6a01e6",
   "metadata": {},
   "outputs": [
    {
     "name": "stdout",
     "output_type": "stream",
     "text": [
      "['2', '9', 'Ashley', 'gabriel', 'john']\n"
     ]
    }
   ],
   "source": [
    "mixed_list = [\"john\", \"gabriel\", \"Ashley\", \"9\", \"2\"]\n",
    "mixed_list.sort()\n",
    "print(mixed_list)"
   ]
  },
  {
   "cell_type": "code",
   "execution_count": 13,
   "id": "23d6a095-8744-4d18-8e0d-b7b47d1dba49",
   "metadata": {},
   "outputs": [
    {
     "ename": "TypeError",
     "evalue": "'<' not supported between instances of 'int' and 'str'",
     "output_type": "error",
     "traceback": [
      "\u001b[0;31m---------------------------------------------------------------------------\u001b[0m",
      "\u001b[0;31mTypeError\u001b[0m                                 Traceback (most recent call last)",
      "Cell \u001b[0;32mIn[13], line 2\u001b[0m\n\u001b[1;32m      1\u001b[0m mixed_list \u001b[38;5;241m=\u001b[39m [\u001b[38;5;124m\"\u001b[39m\u001b[38;5;124mjohn\u001b[39m\u001b[38;5;124m\"\u001b[39m, \u001b[38;5;124m\"\u001b[39m\u001b[38;5;124mgabriel\u001b[39m\u001b[38;5;124m\"\u001b[39m, \u001b[38;5;124m\"\u001b[39m\u001b[38;5;124mAshley\u001b[39m\u001b[38;5;124m\"\u001b[39m, \u001b[38;5;241m9\u001b[39m, \u001b[38;5;241m2\u001b[39m]\n\u001b[0;32m----> 2\u001b[0m mixed_list\u001b[38;5;241m.\u001b[39msort()\n\u001b[1;32m      3\u001b[0m \u001b[38;5;28mprint\u001b[39m(mixed_list)\n",
      "\u001b[0;31mTypeError\u001b[0m: '<' not supported between instances of 'int' and 'str'"
     ]
    }
   ],
   "source": [
    "#example u can sort data of different data types\n",
    "mixed_list = [\"john\", \"gabriel\", \"Ashley\", 9, 2]\n",
    "mixed_list.sort()\n",
    "print(mixed_list)"
   ]
  },
  {
   "cell_type": "code",
   "execution_count": null,
   "id": "4fb80cfb-f79e-4ab2-a192-19f39388d4f7",
   "metadata": {},
   "outputs": [],
   "source": [
    "#working with dictionary\n",
    "#2 ways to declare a dictionary\n",
    "#1 my_dict = {\"name\":\"Justin\", \"age\":20, \"Gender\":male, \"dob\": \"21-08-1990\"}\n",
    "#2nd eway to declare a dictionary. \n",
    "#my_dict1= dict{\"name\":\"Justin\", \"age\":20, \"Gender\":male, \"dob\": \"21-08-1990\"}\n",
    "#duplicate keys are Not allowed\n",
    "#Dictionary can be updated\n",
    "#to access an item in a dictionary use []\n",
    "#then put the key inside[]\n",
    "#to access an item in diction do the following\n",
    "#IF u want to remove a particular thing from library but dont want to delete every thing use del\n",
    "#Clear removes everything\n",
    "name= my_dict[\"name\"]\n",
    "print(name)"
   ]
  },
  {
   "cell_type": "code",
   "execution_count": 25,
   "id": "50c46694-e5e8-47b0-aceb-c5c85c3f6b46",
   "metadata": {},
   "outputs": [
    {
     "name": "stdout",
     "output_type": "stream",
     "text": [
      "my_dict: {'name': 'Justin', 'age': 20, 'Gender': 'male', 'dob': '21-08-1990'}\n",
      "Justin\n"
     ]
    }
   ],
   "source": [
    "my_dict = {\"name\":\"Justin\", \"age\":20, \"Gender\":\"male\", \"dob\": \"21-08-1990\"}\n",
    "print(\"my_dict:\", my_dict)\n",
    "name= my_dict[\"name\"]\n",
    "print(name)"
   ]
  },
  {
   "cell_type": "code",
   "execution_count": 31,
   "id": "daa1b24e-2857-4d15-a050-356642cea4b1",
   "metadata": {},
   "outputs": [
    {
     "ename": "SyntaxError",
     "evalue": "leading zeros in decimal integer literals are not permitted; use an 0o prefix for octal integers (89916253.py, line 1)",
     "output_type": "error",
     "traceback": [
      "\u001b[0;36m  Cell \u001b[0;32mIn[31], line 1\u001b[0;36m\u001b[0m\n\u001b[0;31m    my_dict1= dict{\"name:\", \"Justin\", \"age\":\"20, \"Gender\":\"male\", \"dob\": \"21-08-1990\"}\u001b[0m\n\u001b[0m                                                                             ^\u001b[0m\n\u001b[0;31mSyntaxError\u001b[0m\u001b[0;31m:\u001b[0m leading zeros in decimal integer literals are not permitted; use an 0o prefix for octal integers\n"
     ]
    }
   ],
   "source": [
    "my_dict1= dict{\"name:\", \"Justin\", \"age\":\"20, \"Gender\":\"male\", \"dob\": \"21-08-1990\"}\n",
    "print(\"my_dict1:\", my_dict)"
   ]
  },
  {
   "cell_type": "code",
   "execution_count": 27,
   "id": "8610c847-2f77-4689-ae72-8f73cf392742",
   "metadata": {},
   "outputs": [
    {
     "name": "stdout",
     "output_type": "stream",
     "text": [
      "samuel\n"
     ]
    }
   ],
   "source": [
    "my_dict = {\"name\":\"Justin\", \"age\":20, \"Gender\":\"male\", \"dob\": \"21-08-1990\", \"name\": \"samuel\", \"age\": 32}\n",
    "name= my_dict[\"name\"]\n",
    "print(name)"
   ]
  },
  {
   "cell_type": "code",
   "execution_count": 35,
   "id": "8c6ba286-493e-420d-9939-406bd4d5af99",
   "metadata": {},
   "outputs": [
    {
     "name": "stdout",
     "output_type": "stream",
     "text": [
      "my_dict: {'A': 'Justin', 'B': 20, 'C': 'male', 'D': '21-08-1990'}\n",
      "male\n"
     ]
    }
   ],
   "source": [
    "#print out item using index\n",
    "my_dict = {\"A\":\"Justin\", \"B\":20, \"C\":\"male\", \"D\": \"21-08-1990\"}\n",
    "print(\"my_dict:\", my_dict)\n",
    "print(my_dict[\"C\"])"
   ]
  },
  {
   "cell_type": "code",
   "execution_count": 41,
   "id": "4d71d028-c56b-437f-a158-7a664448d2f2",
   "metadata": {},
   "outputs": [
    {
     "name": "stdout",
     "output_type": "stream",
     "text": [
      "my_dict: {0: 'Justin', 1: 20, '2': 'male', 3: '21-08-1990'}\n",
      "Justin\n"
     ]
    }
   ],
   "source": [
    "#print out item using index\n",
    "my_dict = {0:\"Justin\", 1:20, \"2\":\"male\", 3: \"21-08-1990\"}\n",
    "print(\"my_dict:\", my_dict)\n",
    "print(my_dict[0])"
   ]
  },
  {
   "cell_type": "code",
   "execution_count": 45,
   "id": "0a913b02-5e1d-4ebe-a4fb-63a18c64e8ae",
   "metadata": {},
   "outputs": [
    {
     "name": "stdout",
     "output_type": "stream",
     "text": [
      "my_dict: {'name': 'Johnathan', 'age': 32, 'Gender': 'male', 'dob': '21-08-1990'}\n"
     ]
    }
   ],
   "source": [
    "#updating an items in a Dictionary\n",
    "my_dict = {\"name\":\"Justin\", \"age\":20, \"Gender\":\"male\", \"dob\": \"21-08-1990\", \"name\": \"samuel\", \"age\": 32}\n",
    "#update code below\n",
    "my_dict[\"name\"] = \"Johnathan\"\n",
    "print(\"my_dict:\", my_dict)"
   ]
  },
  {
   "cell_type": "code",
   "execution_count": 49,
   "id": "b9b73a2a-d46f-45c9-bd95-d50762b2e236",
   "metadata": {},
   "outputs": [
    {
     "name": "stdout",
     "output_type": "stream",
     "text": [
      "my_dict: {'name': 'Johnathan', 'age': 32, 'Gender': 'male', 'dob': '21-08-1990', 'address': '20 oba akran road, Ikeja, Lagos'}\n"
     ]
    }
   ],
   "source": [
    "#how to add a new entry into a dictionary\n",
    "my_dict = {\"name\":\"Justin\", \"age\":20, \"Gender\":\"male\", \"dob\": \"21-08-1990\", \"name\": \"samuel\", \"age\": 32}\n",
    "my_dict[\"name\"] = \"Johnathan\"\n",
    "#adding new entry into dictionary. The code for adding a new entry is below\n",
    "my_dict[\"address\"] = \"20 oba akran road, Ikeja, Lagos\"\n",
    "print(\"my_dict:\", my_dict)"
   ]
  },
  {
   "cell_type": "code",
   "execution_count": 55,
   "id": "46288041-2d3a-41d3-b8f2-d56343abc05f",
   "metadata": {},
   "outputs": [
    {
     "name": "stdout",
     "output_type": "stream",
     "text": [
      "my_dict: {'name': 'Johnathan', 'age': 32, 'dob': '21-08-1990', 'address': '20 oba akran road, Ikeja, Lagos'}\n"
     ]
    }
   ],
   "source": [
    "#delete an item from a dictionary\n",
    "my_dict = {\"name\":\"Justin\", \"age\":20, \"Gender\":\"male\", \"dob\": \"21-08-1990\", \"name\": \"samuel\", \"age\": 32}\n",
    "my_dict[\"name\"] = \"Johnathan\"\n",
    "my_dict[\"address\"] = \"20 oba akran road, Ikeja, Lagos\"\n",
    "#delete an item from a dictionary\n",
    "del my_dict[\"Gender\"]\n",
    "print(\"my_dict:\", my_dict)"
   ]
  },
  {
   "cell_type": "code",
   "execution_count": 57,
   "id": "bbe7e2aa-e4c1-427f-8cf1-976089b95fe1",
   "metadata": {},
   "outputs": [
    {
     "ename": "NameError",
     "evalue": "name 'new_dict' is not defined",
     "output_type": "error",
     "traceback": [
      "\u001b[0;31m---------------------------------------------------------------------------\u001b[0m",
      "\u001b[0;31mNameError\u001b[0m                                 Traceback (most recent call last)",
      "Cell \u001b[0;32mIn[57], line 5\u001b[0m\n\u001b[1;32m      2\u001b[0m new_dict \u001b[38;5;241m=\u001b[39m {\u001b[38;5;124m\"\u001b[39m\u001b[38;5;124msubject\u001b[39m\u001b[38;5;124m\"\u001b[39m: \u001b[38;5;124m\"\u001b[39m\u001b[38;5;124mBiology\u001b[39m\u001b[38;5;124m\"\u001b[39m, \u001b[38;5;124m\"\u001b[39m\u001b[38;5;124mage\u001b[39m\u001b[38;5;124m\"\u001b[39m:\u001b[38;5;241m30\u001b[39m}\n\u001b[1;32m      3\u001b[0m \u001b[38;5;28;01mdel\u001b[39;00m new_dict\n\u001b[0;32m----> 5\u001b[0m \u001b[38;5;28mprint\u001b[39m(new_dict)\n",
      "\u001b[0;31mNameError\u001b[0m: name 'new_dict' is not defined"
     ]
    }
   ],
   "source": [
    "#how to delete the entire dictionary\n",
    "new_dict = {\"subject\": \"Biology\", \"age\":30}\n",
    "del new_dict\n",
    "#code for detelteing entire dictionary\n",
    "print(new_dict)\n",
    "\n",
    "#we get error because we delted the dictionary completly"
   ]
  },
  {
   "cell_type": "code",
   "execution_count": 59,
   "id": "f1a8c2cf-4628-4644-b735-44a89137ca63",
   "metadata": {},
   "outputs": [
    {
     "name": "stdout",
     "output_type": "stream",
     "text": [
      "{}\n"
     ]
    }
   ],
   "source": [
    "#Removing /Clear content in dictionary\n",
    "\n",
    "new_dict = {\"subject\": \"Biology\", \"age\":30}\n",
    "new_dict.clear()\n",
    "\n",
    "print(new_dict)\n",
    "\n",
    "#we get empty dictionary because we cleared\n"
   ]
  },
  {
   "cell_type": "code",
   "execution_count": 77,
   "id": "6dc4e7fb-2c25-4cd6-9601-982d73c2beeb",
   "metadata": {},
   "outputs": [
    {
     "name": "stdout",
     "output_type": "stream",
     "text": [
      "keys in the dict: dict_keys(['name', 'age', 'Gender', 'dob'])\n",
      "values in the dict: dict_values(['samuel', 32, 'male', '21-08-1990'])\n"
     ]
    }
   ],
   "source": [
    "#working with dictionary methods\n",
    "my_dict = {\"name\":\"Justin\", \"age\":20, \"Gender\":\"male\", \"dob\": \"21-08-1990\", \"name\": \"samuel\", \"age\": 32}\n",
    "#how to use .keys() method\n",
    "\n",
    "keys = my_dict.keys()\n",
    "print(\"keys in the dict:\", keys)\n",
    "\n",
    "    \n",
    "\n",
    "#dict values\n",
    "values= my_dict.values()\n",
    "print(\"values in the dict:\", values)"
   ]
  },
  {
   "cell_type": "code",
   "execution_count": 79,
   "id": "37f9b018-20e4-4777-ae8f-d22afac7864e",
   "metadata": {},
   "outputs": [
    {
     "name": "stdout",
     "output_type": "stream",
     "text": [
      "dict_items([('name', 'samuel'), ('age', 32), ('Gender', 'male'), ('dob', '21-08-1990')])\n"
     ]
    }
   ],
   "source": [
    "my_dict = {\"name\":\"Justin\", \"age\":20, \"Gender\":\"male\", \"dob\": \"21-08-1990\", \"name\": \"samuel\", \"age\": 32}\n",
    "\n",
    "key_values = my_dict.items()\n",
    "print(key_values)"
   ]
  },
  {
   "cell_type": "code",
   "execution_count": 81,
   "id": "8ac6dc7f-93e3-4878-9c03-e1c0c32efc3b",
   "metadata": {},
   "outputs": [
    {
     "name": "stdout",
     "output_type": "stream",
     "text": [
      "keys in the dict: dict_keys(['name', 'age', 'Gender', 'dob'])\n",
      "dict_keys(['name', 'age', 'Gender', 'dob'])\n",
      "dict_keys(['name', 'age', 'Gender', 'dob'])\n",
      "dict_keys(['name', 'age', 'Gender', 'dob'])\n",
      "dict_keys(['name', 'age', 'Gender', 'dob'])\n",
      "values in the dict: dict_values(['samuel', 32, 'male', '21-08-1990'])\n",
      "samuel\n",
      "32\n",
      "male\n",
      "21-08-1990\n"
     ]
    }
   ],
   "source": [
    "#working with dictionary methods\n",
    "#when added For Loop\n",
    "my_dict = {\"name\":\"Justin\", \"age\":20, \"Gender\":\"male\", \"dob\": \"21-08-1990\", \"name\": \"samuel\", \"age\": 32}\n",
    "#how to use .keys() method\n",
    "\n",
    "keys = my_dict.keys()\n",
    "print(\"keys in the dict:\", keys)\n",
    "#adding For Loop code\n",
    "for key in keys:\n",
    "    print(keys)\n",
    "    \n",
    "\n",
    "#dict values\n",
    "values= my_dict.values()\n",
    "print(\"values in the dict:\", values)\n",
    "for value in values:\n",
    "    print(value)"
   ]
  },
  {
   "cell_type": "code",
   "execution_count": 91,
   "id": "9c1b2cee-d501-4ed5-919b-52a22c67af5b",
   "metadata": {},
   "outputs": [
    {
     "name": "stdout",
     "output_type": "stream",
     "text": [
      "dict_items([('name', 'samuel'), ('age', 32), ('Gender', 'male'), ('dob', '21-08-1990')])\n",
      "name : samuel\n",
      "age : 32\n",
      "Gender : male\n",
      "dob : 21-08-1990\n"
     ]
    }
   ],
   "source": [
    "#working with dot items and want to print out all items in a descriptive way\n",
    "#use For Loop\n",
    "my_dict = {\"name\":\"Justin\", \"age\":20, \"Gender\":\"male\", \"dob\": \"21-08-1990\", \"name\": \"samuel\", \"age\": 32}\n",
    "\n",
    "key_values = my_dict.items()\n",
    "print(key_values)\n",
    "#because there in atuple do the following\n",
    "for key, value in key_values:\n",
    "    print(key, \":\", value)"
   ]
  },
  {
   "cell_type": "code",
   "execution_count": 101,
   "id": "0b2959b4-5621-4f6e-9b1d-878eb05b8a80",
   "metadata": {},
   "outputs": [
    {
     "name": "stdout",
     "output_type": "stream",
     "text": [
      "32\n"
     ]
    }
   ],
   "source": [
    "#working with dictionary methods\n",
    "my_dict = {\"name\":\"Justin\", \"age\":20, \"Gender\":\"male\", \"dob\": \"21-08-1990\", \"name\": \"samuel\", \"age\": 32}\n",
    "my_dict_copy = my_dict.copy()\n",
    "\n",
    "print(my_dict.get(\"age\"))"
   ]
  },
  {
   "cell_type": "code",
   "execution_count": 107,
   "id": "f18f5d9e-a86b-496f-a043-55d230f6a2d9",
   "metadata": {},
   "outputs": [
    {
     "name": "stdout",
     "output_type": "stream",
     "text": [
      "32\n",
      "after pop: None\n"
     ]
    }
   ],
   "source": [
    "#using pop\n",
    "my_dict = {\"name\":\"Justin\", \"age\":20, \"Gender\":\"male\", \"dob\": \"21-08-1990\", \"name\": \"samuel\", \"age\": 32}\n",
    "my_dict_copy = my_dict.copy()\n",
    "\n",
    "print(my_dict.get(\"age\"))\n",
    "my_dict.pop(\"age\")\n",
    "print(\"after pop:\", my_dict.get(\"age\"))\n",
    "      "
   ]
  },
  {
   "cell_type": "code",
   "execution_count": 109,
   "id": "6454b94d-64c3-4599-808e-fe1f99f4c1e7",
   "metadata": {},
   "outputs": [
    {
     "name": "stdout",
     "output_type": "stream",
     "text": [
      "{'name': 'Justin', 'age': 20, 'Gender': 'male'}\n"
     ]
    }
   ],
   "source": [
    "#Pop item. When pop item ur removing the last item from the list\n",
    "my_dict = {\"name\":\"Justin\", \"age\":20, \"Gender\":\"male\", \"dob\": \"21-08-1990\"}\n",
    "my_dict.popitem()\n",
    "print(my_dict)\n"
   ]
  },
  {
   "cell_type": "code",
   "execution_count": 111,
   "id": "eb2113bb-9596-455e-b4db-d3068e585d4a",
   "metadata": {},
   "outputs": [
    {
     "name": "stdout",
     "output_type": "stream",
     "text": [
      "{'name': None, 'dob': None}\n"
     ]
    }
   ],
   "source": [
    "#create a sub dict\n",
    "#creates new keys to create new dictionary\n",
    "my_dict = {\"name\":\"Justin\", \"age\":20, \"Gender\":\"male\", \"dob\": \"21-08-1990\"}\n",
    "sub_dict = my_dict.fromkeys([\"name\": , \"dob\",])\n",
    "\n",
    "print(sub_dict)"
   ]
  },
  {
   "cell_type": "code",
   "execution_count": null,
   "id": "86432436-36f7-4381-8742-d131e39fa2fe",
   "metadata": {},
   "outputs": [],
   "source": []
  }
 ],
 "metadata": {
  "kernelspec": {
   "display_name": "Python 3 (ipykernel)",
   "language": "python",
   "name": "python3"
  },
  "language_info": {
   "codemirror_mode": {
    "name": "ipython",
    "version": 3
   },
   "file_extension": ".py",
   "mimetype": "text/x-python",
   "name": "python",
   "nbconvert_exporter": "python",
   "pygments_lexer": "ipython3",
   "version": "3.12.4"
  }
 },
 "nbformat": 4,
 "nbformat_minor": 5
}
