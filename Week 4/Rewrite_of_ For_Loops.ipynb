{
 "cells": [
  {
   "cell_type": "code",
   "execution_count": null,
   "id": "96860c5b-39fc-4415-aa40-96fdc9a9ba47",
   "metadata": {},
   "outputs": [],
   "source": [
    "#Rewrite For Loops\n"
   ]
  },
  {
   "cell_type": "code",
   "execution_count": 9,
   "id": "d71c53e4-ae2e-471b-9eca-564eebad48aa",
   "metadata": {},
   "outputs": [
    {
     "name": "stdout",
     "output_type": "stream",
     "text": [
      "1 x 1 = 1\n",
      "2 x 2 = 4\n",
      "3 x 3 = 9\n",
      "4 x 4 = 16\n",
      "5 x 5 = 25\n",
      "6 x 6 = 36\n",
      "7 x 7 = 49\n",
      "8 x 8 = 64\n",
      "9 x 9 = 81\n",
      "10 x 10 = 100\n",
      "11 x 11 = 121\n",
      "12 x 12 = 144\n",
      "13 x 13 = 169\n",
      "14 x 14 = 196\n",
      "15 x 15 = 225\n",
      "16 x 16 = 256\n",
      "17 x 17 = 289\n",
      "18 x 18 = 324\n",
      "19 x 19 = 361\n",
      "20 x 20 = 400\n"
     ]
    }
   ],
   "source": [
    "#Get all the numbers from range 1 - 20 and find the square root of them using the for loop\n",
    "\n",
    "for i in range(1,21):\n",
    "    print (i, \"x\", i, \"=\", i * i) # here is where the multplication occurs. i equals how many times it should be mulitply by for example\n",
    "                                # remeber to add comma after each variable on the left hand side of the = sign\n",
    "                                # i * i = squared\n",
    "                                # i * i * i = cubed"
   ]
  },
  {
   "cell_type": "code",
   "execution_count": 11,
   "id": "f418f43a-4697-4a21-937e-851f3a5f24fd",
   "metadata": {},
   "outputs": [
    {
     "name": "stdout",
     "output_type": "stream",
     "text": [
      "1 x 1 x 1 = 1\n",
      "2 x 2 x 2 = 8\n",
      "3 x 3 x 3 = 27\n",
      "4 x 4 x 4 = 64\n",
      "5 x 5 x 5 = 125\n",
      "6 x 6 x 6 = 216\n",
      "7 x 7 x 7 = 343\n",
      "8 x 8 x 8 = 512\n",
      "9 x 9 x 9 = 729\n",
      "10 x 10 x 10 = 1000\n",
      "11 x 11 x 11 = 1331\n",
      "12 x 12 x 12 = 1728\n",
      "13 x 13 x 13 = 2197\n",
      "14 x 14 x 14 = 2744\n",
      "15 x 15 x 15 = 3375\n",
      "16 x 16 x 16 = 4096\n",
      "17 x 17 x 17 = 4913\n",
      "18 x 18 x 18 = 5832\n",
      "19 x 19 x 19 = 6859\n",
      "20 x 20 x 20 = 8000\n"
     ]
    }
   ],
   "source": [
    "#using range(1,21) write a program that prints out the cube of every item in the sequence\n",
    "\n",
    "for i in range(1,21):\n",
    "    print(i, \"x\", i, \"x\", i, \"=\", i * i * i)"
   ]
  },
  {
   "cell_type": "code",
   "execution_count": 1,
   "id": "a273a660-bd4f-46ce-a813-b818bfd60bba",
   "metadata": {},
   "outputs": [
    {
     "name": "stdout",
     "output_type": "stream",
     "text": [
      "['John', 'Caleb', 'Replaced', 89, 'Replaced', 'Replaced', 'Physics', 'Geography']\n"
     ]
    }
   ],
   "source": [
    "# Locate the items at the following index 2, 4, 5 in the list below and replace those items with the string \"Replaced\"#create a new list with each item as a square of the corresponding item in the list above—also, sort the resulting list in descending order.\n",
    "#new_list = [5, 8, 4, 2, 7, 12, 86]\n",
    "#Using either a for loop\n",
    "new_list =[\"John\", \"Caleb\", \"Joshua\", 89, 20, \"Biology\", \"Physics\", \"Geography\"]\n",
    " \n",
    "\n",
    "new_list[2] = \"Replaced\"\n",
    "new_list[4] = \"Replaced\"\n",
    "new_list[5] = \"Replaced\"\n",
    "\n",
    "print(new_list)"
   ]
  },
  {
   "cell_type": "code",
   "execution_count": 21,
   "id": "3790fd37-36ae-4bd9-8d71-76c4f414ee79",
   "metadata": {},
   "outputs": [
    {
     "name": "stdout",
     "output_type": "stream",
     "text": [
      "red\n",
      "blue\n",
      "yellow\n"
     ]
    }
   ],
   "source": [
    "#use a For loop to pring out all the colors in the list below\n",
    "my_list = [\"red\", \"blue\", \"yellow\"]\n",
    "\n",
    "for colors in (my_list):\n",
    "    print(colors)\n",
    "\n",
    "\n",
    "#for Loop\n",
    "#1) make sure that that the variable after for matches the variable that I put in the semi circle brackets in print\n",
    "# in the example above i used colors after for so colors should be after print in the semi circle brackets\n",
    "#Break down of the for loop code\n",
    "#Ingredients of a for loop (see the syntax above):\n",
    "\n",
    "#Ingredients of a for loop (see the syntax above):\n",
    "#for: this keyword is required to start a loop\n",
    "#element: after the for keyword, we can use any variable name we want. This variable will simply access each item of the sequence on each iteration. In the examples above you can see that we’ve called it variously element, color, letter, product, and x. Anything works, but generally you should try to give this variable a meaningful name: it will make your code easier to read for yourself and anyone else who looks at it.\n",
    "#in: this keyword is required to introduce the object you want to iterate over in the loop\n",
    "#iterable-object: after the in keyword, state the object you want to iterate over. This can be any iterable object, including lists, strings, dictionaries, ranges, tuples, and sets.\n",
    "#The for statement must end with a colon, followed by a line return and indentation.\n",
    "#statement(s): One or more actions to be carried out on every iteration of the loop. In the examples above we simply use a print statement, but anything is possible.\n"
   ]
  },
  {
   "cell_type": "code",
   "execution_count": 1,
   "id": "eda6285f-b5d9-4a15-af7f-bee974b0f783",
   "metadata": {},
   "outputs": [
    {
     "name": "stdout",
     "output_type": "stream",
     "text": [
      "5\n",
      "6\n",
      "7\n",
      "8\n",
      "9\n"
     ]
    }
   ],
   "source": [
    "#Create a loop that iterates over a range and produces the following output: 5, 6, 7, 8, 9\n",
    "\n",
    "for i in range(5,10):\n",
    "    print(i)\n",
    "\n",
    "\n"
   ]
  },
  {
   "cell_type": "code",
   "execution_count": null,
   "id": "b5176967-0bc5-40a0-8037-a814a595787e",
   "metadata": {},
   "outputs": [],
   "source": [
    "#Create a loop that iterates over a range and produces the following output: 0, 25, 50, 75\n"
   ]
  },
  {
   "cell_type": "code",
   "execution_count": 5,
   "id": "ec5a65f2-33a5-4b07-a747-3e42ca6cfa4c",
   "metadata": {},
   "outputs": [
    {
     "name": "stdout",
     "output_type": "stream",
     "text": [
      "5\n",
      "4\n",
      "3\n",
      "2\n",
      "1\n"
     ]
    }
   ],
   "source": [
    "#Create code that includes a loop that iterates over a range, and produces the following output: 5, 4, 3, 2, 1\n",
    "\n",
    "for i in range(5,0,-1):\n",
    "    print(i)\n",
    "   \n",
    "    "
   ]
  },
  {
   "cell_type": "code",
   "execution_count": 7,
   "id": "084d06f6-8e76-466b-9dc0-baa45848497a",
   "metadata": {},
   "outputs": [
    {
     "name": "stdout",
     "output_type": "stream",
     "text": [
      "1 is less than 3\n",
      "10 is greater than 3\n",
      "9 is greater than 3\n",
      "4 is greater than 3\n"
     ]
    }
   ],
   "source": [
    "#Create a loop that iterates over the list [1, 10, 9, 4] and checks whether each number is greater than 3:\n",
    "#this question is asking you to write an if/elif condition\n",
    "numbers = [1, 10, 9, 4] \n",
    "\n",
    "for number in (numbers):\n",
    "    if number > 3:\n",
    "        print(number, \"is greater than 3\")\n",
    "\n",
    "    elif number < 3:\n",
    "        print(number, \"is less than 3\")\n",
    "    \n",
    "\n",
    "   \n",
    "        \n",
    "   \n",
    "            "
   ]
  },
  {
   "cell_type": "code",
   "execution_count": null,
   "id": "d6175085-a340-45b3-af7b-3dd951bbfd32",
   "metadata": {},
   "outputs": [],
   "source": [
    "#Create a loop that iterates over the list [\"France\", \"Japan\", \"the USA\"] and searches for “the USA” in the list:"
   ]
  },
  {
   "cell_type": "code",
   "execution_count": 25,
   "id": "2e961ee0-000e-4947-ae28-bf41bf2b5358",
   "metadata": {},
   "outputs": [
    {
     "name": "stdout",
     "output_type": "stream",
     "text": [
      "-1 is negative\n",
      "2 is positive\n",
      "3 is positive\n",
      "0 is neither positive or negative\n",
      "-4 is negative\n"
     ]
    }
   ],
   "source": [
    "#Create a loop that iterates over the list [-1, 2, 3, 0, -4] and checks whether each number is positive or negative:\n",
    "\n",
    "numbers = [-1, 2, 3, 0, -4] # after variable number always write = then the list\n",
    "\n",
    "for number in numbers:\n",
    "    if number > 0:\n",
    "        print(number, \"is positive\")\n",
    "        \n",
    "    elif number <0:\n",
    "            print(number, \"is negative\")\n",
    "    else:\n",
    "      print(number, \"is neither positive or negative\")\n"
   ]
  },
  {
   "cell_type": "code",
   "execution_count": null,
   "id": "a45eda24-9e1f-4867-8c14-db399e90f51b",
   "metadata": {},
   "outputs": [],
   "source": [
    "numbers = [-1, 2, 3, 0, -4] \n",
    "  \n",
    "for number in numbers:\n",
    "    if number > 0:\n",
    "        print(number, \"is a positive number\")\n",
    "    elif number < 0:\n",
    "        print(number, \"is a negative number\")\n",
    "    else:\n",
    "        print(number, \"is neither positive nor negative\")\n",
    "  \n",
    "## output:"
   ]
  },
  {
   "cell_type": "code",
   "execution_count": null,
   "id": "206d08c8-fdc6-4445-a07f-c2eeebe3014a",
   "metadata": {},
   "outputs": [],
   "source": [
    "#Get all the numbers from range 1 - 20 and find the square root of them using the for loop"
   ]
  },
  {
   "cell_type": "code",
   "execution_count": null,
   "id": "8294263c-bb6a-4ef5-ae13-4699f0ebbdcc",
   "metadata": {},
   "outputs": [],
   "source": [
    "#using range(1,21) write a program that prints out the cube of every item in the sequence"
   ]
  },
  {
   "cell_type": "code",
   "execution_count": null,
   "id": "b0a0a440-fa9d-4d02-b10f-51c83c9588b0",
   "metadata": {},
   "outputs": [],
   "source": [
    "# Locate the items at the following index 2, 4, 5 in the list below and replace those items with the string \"Replaced\"#create a new list with each item as a square of the corresponding item in the list above—also, sort the resulting list in descending order.\n",
    "#new_list = [5, 8, 4, 2, 7, 12, 86]\n",
    "#Using either a for loop\n",
    "new_list =[\"John\", \"Caleb\", \"Joshua\", 89, 20, \"Biology\", \"Physics\", \"Geography\"]\n",
    " "
   ]
  },
  {
   "cell_type": "code",
   "execution_count": null,
   "id": "a15886f1-833d-41c2-a4d3-34ca1404093a",
   "metadata": {},
   "outputs": [],
   "source": [
    "#use a For loop to pring out all the colors in the list below\n",
    "my_list = [\"red\", \"blue\", \"yellow\"]\n"
   ]
  },
  {
   "cell_type": "code",
   "execution_count": null,
   "id": "62f21c83-a7b0-40da-9f94-3be21858d2eb",
   "metadata": {},
   "outputs": [],
   "source": [
    "#Create a loop that iterates over a range and produces the following output: 5, 6, 7, 8, 9"
   ]
  },
  {
   "cell_type": "code",
   "execution_count": null,
   "id": "31d13532-5de7-4676-b309-9768e75ffade",
   "metadata": {},
   "outputs": [],
   "source": [
    "#Create a loop that iterates over a range and produces the following output: 0, 25, 50, 75"
   ]
  },
  {
   "cell_type": "code",
   "execution_count": null,
   "id": "76dacdfb-051b-44c3-962d-45ecb1cd2ab9",
   "metadata": {},
   "outputs": [],
   "source": [
    "#Create code that includes a loop that iterates over a range, and produces the following output: 5, 4, 3, 2, 1"
   ]
  },
  {
   "cell_type": "code",
   "execution_count": null,
   "id": "fda344e4-5501-4429-afe6-325b2a805797",
   "metadata": {},
   "outputs": [],
   "source": [
    "#Create a loop that iterates over the list [-1, 2, 3, 0, -4] and checks whether each number is positive or negative:"
   ]
  },
  {
   "cell_type": "code",
   "execution_count": null,
   "id": "f3ad9b00-80e3-49b6-b66b-474527f93f94",
   "metadata": {},
   "outputs": [],
   "source": []
  }
 ],
 "metadata": {
  "kernelspec": {
   "display_name": "Python 3 (ipykernel)",
   "language": "python",
   "name": "python3"
  },
  "language_info": {
   "codemirror_mode": {
    "name": "ipython",
    "version": 3
   },
   "file_extension": ".py",
   "mimetype": "text/x-python",
   "name": "python",
   "nbconvert_exporter": "python",
   "pygments_lexer": "ipython3",
   "version": "3.12.4"
  }
 },
 "nbformat": 4,
 "nbformat_minor": 5
}
