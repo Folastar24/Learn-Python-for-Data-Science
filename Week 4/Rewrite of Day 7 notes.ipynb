{
 "cells": [
  {
   "cell_type": "code",
   "execution_count": null,
   "id": "ec4a63cd-2b2d-4f60-8f6b-3749150c05bc",
   "metadata": {},
   "outputs": [],
   "source": [
    "#Rewrite of Day 7 Notes"
   ]
  },
  {
   "cell_type": "code",
   "execution_count": 9,
   "id": "10341a3c-0a5b-46e5-b424-8a30751cd9b8",
   "metadata": {},
   "outputs": [
    {
     "name": "stdout",
     "output_type": "stream",
     "text": [
      "For_Loop: ['John', 'Caleb', 'Replaced', 89, 'Replaced', 'Replaced', 'Physics', 'Geography']\n"
     ]
    },
    {
     "ename": "NameError",
     "evalue": "name 'index_list' is not defined",
     "output_type": "error",
     "traceback": [
      "\u001b[0;31m---------------------------------------------------------------------------\u001b[0m",
      "\u001b[0;31mNameError\u001b[0m                                 Traceback (most recent call last)",
      "Cell \u001b[0;32mIn[9], line 19\u001b[0m\n\u001b[1;32m     17\u001b[0m i\u001b[38;5;241m=\u001b[39m\u001b[38;5;241m0\u001b[39m\n\u001b[1;32m     18\u001b[0m \u001b[38;5;28;01mwhile\u001b[39;00m(i \u001b[38;5;241m<\u001b[39m count):\n\u001b[0;32m---> 19\u001b[0m     j \u001b[38;5;241m=\u001b[39m index_list[i]\n\u001b[1;32m     20\u001b[0m     new_list[j] \u001b[38;5;241m=\u001b[39m \u001b[38;5;124m\"\u001b[39m\u001b[38;5;124mReplaced\u001b[39m\u001b[38;5;124m\"\u001b[39m\n\u001b[1;32m     22\u001b[0m \u001b[38;5;28mprint\u001b[39m(\u001b[38;5;124m\"\u001b[39m\u001b[38;5;124mWhile_Loop:\u001b[39m\u001b[38;5;124m\"\u001b[39m, new_list)\n",
      "\u001b[0;31mNameError\u001b[0m: name 'index_list' is not defined"
     ]
    }
   ],
   "source": [
    "# Locate the items at the following index 2, 4, 5 in the list below and replace those items with the string \"Replaced\"#create a new list with each item as a square of the corresponding item in the list above—also, sort the resulting list in descending order.\n",
    "#new_list = [5, 8, 4, 2, 7, 12, 86]\n",
    "#Using either a for Loop\n",
    "\n",
    "new_list = [\"John\", \"Caleb\", \"Joshua\", 89, 20, \"Biology\", \"Physics\", \"Geography\"]\n",
    "index =[2, 4, 5]\n",
    "new_list[2] = \"Replaced\"\n",
    "new_list[4] = \"Replaced\"\n",
    "new_list[5] = \"Replaced\"\n",
    "\n",
    "print(\"For_Loop:\", new_list)\n",
    "\n",
    "#While Loop\n",
    "\n",
    "\n",
    "count = len(new_list)\n",
    "i=0\n",
    "while(i < count):\n",
    "    j = index_list[i]\n",
    "    new_list[j] = \"Replaced\"\n",
    "\n",
    "print(\"While_Loop:\", new_list)\n"
   ]
  },
  {
   "cell_type": "code",
   "execution_count": null,
   "id": "16ba5270-c2e4-4ebb-9488-656f0a1f10b1",
   "metadata": {},
   "outputs": [],
   "source": []
  },
  {
   "cell_type": "code",
   "execution_count": 1,
   "id": "71e498d0-4bf7-4335-8a22-fb1efcc21f40",
   "metadata": {},
   "outputs": [
    {
     "name": "stdout",
     "output_type": "stream",
     "text": [
      "[(4, 7), (4, 8), (4, 9), (5, 7), (5, 8), (5, 9), (3, 7), (3, 8), (3, 9)]\n"
     ]
    }
   ],
   "source": [
    "#using list comprehension nexted loop using For Loop\n",
    "# as a square of the corresponding item in the list above—also, sort the resulting list in descending order.\n",
    "#These are tuples\n",
    "list1 = [4, 5, 3,]\n",
    "list2 = [7, 8, 9]\n",
    "\n",
    "result = []\n",
    "for i in list1:\n",
    "    for j in list2:\n",
    "        result.append((i,j))\n",
    "\n",
    "print(result)\n"
   ]
  },
  {
   "cell_type": "code",
   "execution_count": 3,
   "id": "b8591b47-fa63-4a8c-b842-80bc20702890",
   "metadata": {},
   "outputs": [
    {
     "name": "stdout",
     "output_type": "stream",
     "text": [
      "[(4, 7), (4, 8), (4, 9), (5, 7), (5, 8), (5, 9), (3, 7), (3, 8), (3, 9)]\n"
     ]
    }
   ],
   "source": [
    "#using list comprehension using a Nexted Loop code\n",
    "# as a square of the corresponding item in the list above—also, sort the resulting list in descending order.\n",
    "#these are tuples\n",
    "list1 = [4, 5, 3,]\n",
    "list2 = [7, 8, 9]\n",
    "\n",
    "result=[(x,y) for x in list1 for y in list2]\n",
    "print(result)\n"
   ]
  },
  {
   "cell_type": "code",
   "execution_count": 12,
   "id": "c5442ebd-879f-4695-bba2-608f29b0f914",
   "metadata": {},
   "outputs": [
    {
     "name": "stdout",
     "output_type": "stream",
     "text": [
      "while loop soulution: ['John', 'Caleb', 'Replaced', 89, 'Replaced', 'Replaced', 'Physics', 'Geography']\n"
     ]
    }
   ],
   "source": [
    "#While Loop to locate index at 2,4,5 and replace those items with the word \"Replaced\"\n",
    "new_list = [\"John\", \"Caleb\", \"Joshua\", 89, 20, \"Biology\", \"Physics\", \"Geography\"]\n",
    "index_list =[2,4, 5]\n",
    "\n",
    "count = len(index_list)\n",
    "i = 0\n",
    "while (i < count):\n",
    "    j = index_list[i]\n",
    "    new_list[j]= \"Replaced\"\n",
    "    i +=1\n",
    "\n",
    "print(\"while loop soulution:\", new_list)"
   ]
  },
  {
   "cell_type": "code",
   "execution_count": 7,
   "id": "b1fb95be-27ac-4f3f-a0b0-c8184e2c273c",
   "metadata": {},
   "outputs": [
    {
     "name": "stdout",
     "output_type": "stream",
     "text": [
      "while loop solution: ['John', 'Caleb', 'Replaced', 89, 'Replaced', 'Replaced', 'Physics', 'Geography']\n"
     ]
    }
   ],
   "source": [
    "#While Loop to locate index at 2,4,5 and replace those items with the word \"Replaced\"\n",
    "new_list = [\"John\", \"Caleb\", \"Joshua\", 89, 20, \"Biology\", \"Physics\", \"Geography\"]\n",
    "index_list =[2,4, 5]\n",
    "\n",
    "count = len(index_list)\n",
    "i=0\n",
    "while(i < count):\n",
    "    t = index_list[i] #Before the = sign put a declare a variable this can be any variable name or item\n",
    "    new_list[t] = \"Replaced\" # use the same declared variable in the []\n",
    "    i +=1\n",
    "\n",
    "print(\"while loop solution:\", new_list)\n",
    "\n"
   ]
  },
  {
   "cell_type": "code",
   "execution_count": null,
   "id": "46b460e2-ffad-4549-882b-2e6932c31e30",
   "metadata": {},
   "outputs": [],
   "source": []
  }
 ],
 "metadata": {
  "kernelspec": {
   "display_name": "Python 3 (ipykernel)",
   "language": "python",
   "name": "python3"
  },
  "language_info": {
   "codemirror_mode": {
    "name": "ipython",
    "version": 3
   },
   "file_extension": ".py",
   "mimetype": "text/x-python",
   "name": "python",
   "nbconvert_exporter": "python",
   "pygments_lexer": "ipython3",
   "version": "3.12.4"
  }
 },
 "nbformat": 4,
 "nbformat_minor": 5
}
