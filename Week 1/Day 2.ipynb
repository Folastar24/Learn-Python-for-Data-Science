{
 "cells": [
  {
   "cell_type": "code",
   "execution_count": 11,
   "id": "ab77609c-366e-4ccf-a0f0-e3e98fe4ef43",
   "metadata": {},
   "outputs": [
    {
     "name": "stdout",
     "output_type": "stream",
     "text": [
      "check: True\n",
      "check1: False\n",
      "check2: True\n"
     ]
    }
   ],
   "source": [
    "#Using the membership operators\n",
    "students = [\"John\", \"Samuel\", \"Lizzy\", \"Miariam\"]\n",
    "check = \"John\" in students\n",
    "check1 = \"Damian\" in students\n",
    "print(\"check:\", check)\n",
    "print( \"check1:\", check1)\n",
    "\n",
    "check2 = \"Damian\" not in students\n",
    "print(\"check2:\", check2)"
   ]
  },
  {
   "cell_type": "code",
   "execution_count": 19,
   "id": "d0aebef8-a932-4b5b-9b38-06690387eea8",
   "metadata": {},
   "outputs": [
    {
     "name": "stdout",
     "output_type": "stream",
     "text": [
      "x: 10\n",
      "y: 10.0\n",
      "z: 10\n",
      "result: False\n",
      "result1: True\n"
     ]
    }
   ],
   "source": [
    "#Using the identity operators\n",
    "x = 10\n",
    "y = 10.0\n",
    "z = x\n",
    "\n",
    "print(\"x:\",x)\n",
    "print(\"y:\", y)\n",
    "print(\"z:\",z)\n",
    "\n",
    "result  = x is y\n",
    "result1 = x is z\n",
    "\n",
    "print(\"result:\", result)\n",
    "print(\"result1:\", result1)"
   ]
  },
  {
   "cell_type": "code",
   "execution_count": 22,
   "id": "dfd22699-2a28-4df7-9cd4-4f8f23dc1db3",
   "metadata": {},
   "outputs": [
    {
     "name": "stdout",
     "output_type": "stream",
     "text": [
      "b: 10\n"
     ]
    }
   ],
   "source": [
    "#Using built- in python functions\n",
    "a = -10\n",
    "b = abs(a)\n",
    "print(\"b:\", b)"
   ]
  },
  {
   "cell_type": "code",
   "execution_count": 29,
   "id": "a08b9ad4-ccf0-4089-a065-40465e845bb0",
   "metadata": {},
   "outputs": [
    {
     "name": "stdout",
     "output_type": "stream",
     "text": [
      "min age:  12\n",
      "max age:  17\n",
      "no of items:  5\n",
      "sum of all the ages: 71\n",
      "mean age: 14.2\n"
     ]
    }
   ],
   "source": [
    "age_list = [12, 14, 13, 17, 15]\n",
    "minimum_age = min(age_list)\n",
    "maximum_age = max(age_list)\n",
    "print(\"min age: \", minimum_age)\n",
    "print(\"max age: \", maximum_age)\n",
    "\n",
    "\n",
    "item_count = len(age_list)\n",
    "print(\"no of items: \", item_count)\n",
    "\n",
    "\n",
    "sum_age = sum(age_list)\n",
    "print(\"sum of all the ages:\", sum_age)\n",
    "mean_age = sum_age/item_count\n",
    "print(\"mean age:\", mean_age)"
   ]
  },
  {
   "cell_type": "code",
   "execution_count": 39,
   "id": "424b48df-f79a-4324-b1cc-0ba7186f2141",
   "metadata": {},
   "outputs": [
    {
     "name": "stdout",
     "output_type": "stream",
     "text": [
      "min score:  35\n",
      "max score:  93\n",
      "no of items:  7\n",
      "sum of all the scores: 440\n",
      "mean score: 62.857142857142854\n"
     ]
    }
   ],
   "source": [
    "#Class exercise\n",
    "\"\"\"\n",
    "Using python's built in functions, compute the minimum, maximum, total and mean value from the list below\n",
    "\"\"\"\n",
    "\n",
    "score_list = [60, 54, 49, 90, 59, 35, 93]\n",
    "\n",
    "minimum_score = min(score_list)\n",
    "maximum_score = max(score_list)\n",
    "print(\"min score: \",  minimum_score)\n",
    "print(\"max score: \",  maximum_score)\n",
    "\n",
    "item_count = len(score_list)\n",
    "print(\"no of items: \", item_count)\n",
    "\n",
    "sum_score = sum(score_list)\n",
    "print(\"sum of all the scores:\", sum_score)\n",
    "mean_score = sum_score/item_count\n",
    "print(\"mean score:\", mean_score)"
   ]
  },
  {
   "cell_type": "code",
   "execution_count": 43,
   "id": "5123b2d2-a256-4583-ac38-0dc60baeb94f",
   "metadata": {},
   "outputs": [
    {
     "name": "stdout",
     "output_type": "stream",
     "text": [
      "a > b: False\n",
      "a < b: True\n"
     ]
    }
   ],
   "source": [
    "#Combining comparison operators\n",
    "# >, <, >=, <=, ==, !=\n",
    "\n",
    "a = 30\n",
    "b = 50\n",
    "\n",
    "print(\"a > b:\", a > b)\n",
    "print(\"a < b:\", a < b)\n",
    "print(\""
   ]
  },
  {
   "cell_type": "code",
   "execution_count": null,
   "id": "057d5954-dc3c-4456-a813-8bcd0d06afeb",
   "metadata": {},
   "outputs": [],
   "source": [
    "#Combininb Operators and Logical operators\n",
    "e = a<b and c!=d\n",
    "print("
   ]
  },
  {
   "cell_type": "code",
   "execution_count": null,
   "id": "05506db6-bc6e-4b8f-b7aa-b7ab55be10e3",
   "metadata": {},
   "outputs": [],
   "source": []
  }
 ],
 "metadata": {
  "kernelspec": {
   "display_name": "Python 3 (ipykernel)",
   "language": "python",
   "name": "python3"
  },
  "language_info": {
   "codemirror_mode": {
    "name": "ipython",
    "version": 3
   },
   "file_extension": ".py",
   "mimetype": "text/x-python",
   "name": "python",
   "nbconvert_exporter": "python",
   "pygments_lexer": "ipython3",
   "version": "3.12.4"
  }
 },
 "nbformat": 4,
 "nbformat_minor": 5
}
