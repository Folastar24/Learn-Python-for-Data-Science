{
 "cells": [
  {
   "cell_type": "code",
   "execution_count": 1,
   "id": "65710177-5584-470d-8746-ee495ce7d4e1",
   "metadata": {},
   "outputs": [
    {
     "name": "stdout",
     "output_type": "stream",
     "text": [
      "Hello world!\n"
     ]
    }
   ],
   "source": [
    "print(\"Hello world!\")"
   ]
  },
  {
   "cell_type": "code",
   "execution_count": 6,
   "id": "fd006d49-debf-4936-b960-9c4140d2eceb",
   "metadata": {},
   "outputs": [
    {
     "name": "stdout",
     "output_type": "stream",
     "text": [
      "25\n"
     ]
    }
   ],
   "source": [
    "#This is about how variables work in python\n",
    "a = 25\n",
    "b = 20\n",
    "a = 5\n",
    "c = a+b\n",
    "print (c)"
   ]
  },
  {
   "cell_type": "code",
   "execution_count": 7,
   "id": "c685f82c-e466-4445-88f2-ccd34a9dc075",
   "metadata": {},
   "outputs": [],
   "source": [
    "# This is a single line comment\n",
    "\" \" \"\n",
    "This is comment line  one\n",
    "This is comment line 2\n",
    "This is comment line 3\n",
    "\" \" \"\n",
    "\n"
   ]
  },
  {
   "cell_type": "code",
   "execution_count": 16,
   "id": "7741d623-3b4f-4984-8981-7627fb30b513",
   "metadata": {},
   "outputs": [
    {
     "name": "stdout",
     "output_type": "stream",
     "text": [
      "c =  12\n",
      "d = 0\n"
     ]
    }
   ],
   "source": [
    "a = 6\n",
    "b = 2\n",
    "c = a * b\n",
    "d = a % b\n",
    "\n",
    "print (\"c = \", c)\n",
    "print (\"d =\", d)"
   ]
  },
  {
   "cell_type": "code",
   "execution_count": 32,
   "id": "4989139d-b1af-4714-b8d1-28e3340e8d6c",
   "metadata": {},
   "outputs": [
    {
     "name": "stdout",
     "output_type": "stream",
     "text": [
      "<class 'str'>\n",
      "<class 'float'>\n",
      "<class 'int'>\n",
      "<class 'bool'>\n",
      "<class 'list'>\n",
      "<class 'tuple'>\n",
      "<class 'set'>\n",
      "<class 'dict'>\n"
     ]
    }
   ],
   "source": [
    "d = \"John\"\n",
    "e = 5.1\n",
    "f = 10\n",
    "g = False\n",
    "h = [\"John\", \"Sylvia\", \"James\", \"Mary\"]\n",
    "i = (\"John\", \"Sylvia\", \"James\", \"Mary\")\n",
    "j = {10, 20, 40, 4, 44}\n",
    "k = {\"name\": \"John\", \"age\": 20, \"country\": \"France\"}\n",
    "\n",
    "print(type (d))\n",
    "print(type (e))\n",
    "print(type (f))\n",
    "print(type (g))\n",
    "print(type (h))\n",
    "print(type (i))\n",
    "print(type (j))\n",
    "print(type (k))\n",
    "     "
   ]
  },
  {
   "cell_type": "code",
   "execution_count": null,
   "id": "519aa749-d493-41d6-b92d-b0048ad94334",
   "metadata": {},
   "outputs": [],
   "source": []
  }
 ],
 "metadata": {
  "kernelspec": {
   "display_name": "Python 3 (ipykernel)",
   "language": "python",
   "name": "python3"
  },
  "language_info": {
   "codemirror_mode": {
    "name": "ipython",
    "version": 3
   },
   "file_extension": ".py",
   "mimetype": "text/x-python",
   "name": "python",
   "nbconvert_exporter": "python",
   "pygments_lexer": "ipython3",
   "version": "3.12.4"
  }
 },
 "nbformat": 4,
 "nbformat_minor": 5
}
